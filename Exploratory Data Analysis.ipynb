{
 "cells": [
  {
   "cell_type": "code",
   "execution_count": 144,
   "metadata": {},
   "outputs": [],
   "source": [
    "import pandas as pd\n",
    "pd.set_option('display.max_columns', None)\n",
    "import matplotlib.pyplot as plt\n",
    "import seaborn as sns"
   ]
  },
  {
   "cell_type": "markdown",
   "metadata": {},
   "source": [
    "## Reading Data\n"
   ]
  },
  {
   "cell_type": "code",
   "execution_count": 145,
   "metadata": {},
   "outputs": [
    {
     "data": {
      "text/html": [
       "<div>\n",
       "<style scoped>\n",
       "    .dataframe tbody tr th:only-of-type {\n",
       "        vertical-align: middle;\n",
       "    }\n",
       "\n",
       "    .dataframe tbody tr th {\n",
       "        vertical-align: top;\n",
       "    }\n",
       "\n",
       "    .dataframe thead th {\n",
       "        text-align: right;\n",
       "    }\n",
       "</style>\n",
       "<table border=\"1\" class=\"dataframe\">\n",
       "  <thead>\n",
       "    <tr style=\"text-align: right;\">\n",
       "      <th></th>\n",
       "      <th>job title</th>\n",
       "      <th>salary estimate</th>\n",
       "      <th>job description</th>\n",
       "      <th>rating</th>\n",
       "      <th>company name</th>\n",
       "      <th>location</th>\n",
       "      <th>headquarters</th>\n",
       "      <th>size</th>\n",
       "      <th>founded</th>\n",
       "      <th>type of ownership</th>\n",
       "      <th>industry</th>\n",
       "      <th>sector</th>\n",
       "      <th>revenue</th>\n",
       "      <th>competitors</th>\n",
       "      <th>min_salary</th>\n",
       "      <th>max_salary</th>\n",
       "      <th>avg_salary</th>\n",
       "      <th>company_txt</th>\n",
       "      <th>job_state</th>\n",
       "      <th>age</th>\n",
       "      <th>python</th>\n",
       "      <th>R</th>\n",
       "      <th>spark</th>\n",
       "      <th>aws</th>\n",
       "      <th>cloud</th>\n",
       "      <th>excel</th>\n",
       "    </tr>\n",
       "  </thead>\n",
       "  <tbody>\n",
       "    <tr>\n",
       "      <th>0</th>\n",
       "      <td>Data Scientist 2</td>\n",
       "      <td>$52K-$95K</td>\n",
       "      <td>Description\\nDigital Health and Analytics with...</td>\n",
       "      <td>3.9</td>\n",
       "      <td>Humana\\n3.9</td>\n",
       "      <td>Louisville, KY</td>\n",
       "      <td>-1</td>\n",
       "      <td>10000+ Employees</td>\n",
       "      <td>1961</td>\n",
       "      <td>Company - Public</td>\n",
       "      <td>Insurance Carriers</td>\n",
       "      <td>Insurance</td>\n",
       "      <td>$10+ billion (USD)</td>\n",
       "      <td>-1</td>\n",
       "      <td>52</td>\n",
       "      <td>95</td>\n",
       "      <td>73.5</td>\n",
       "      <td>Humana</td>\n",
       "      <td>KY</td>\n",
       "      <td>59</td>\n",
       "      <td>1</td>\n",
       "      <td>0</td>\n",
       "      <td>1</td>\n",
       "      <td>0</td>\n",
       "      <td>0</td>\n",
       "      <td>0</td>\n",
       "    </tr>\n",
       "    <tr>\n",
       "      <th>1</th>\n",
       "      <td>Data Scientist</td>\n",
       "      <td>$58K-$103K</td>\n",
       "      <td>Job Posting End Date: 12/24\\nUnum is a company...</td>\n",
       "      <td>3.9</td>\n",
       "      <td>Unum\\n3.9</td>\n",
       "      <td>Portland, ME</td>\n",
       "      <td>-1</td>\n",
       "      <td>5001 to 10000 Employees</td>\n",
       "      <td>1848</td>\n",
       "      <td>Company - Public</td>\n",
       "      <td>Insurance Carriers</td>\n",
       "      <td>Insurance</td>\n",
       "      <td>$10+ billion (USD)</td>\n",
       "      <td>-1</td>\n",
       "      <td>58</td>\n",
       "      <td>103</td>\n",
       "      <td>80.5</td>\n",
       "      <td>Unum</td>\n",
       "      <td>ME</td>\n",
       "      <td>172</td>\n",
       "      <td>0</td>\n",
       "      <td>0</td>\n",
       "      <td>0</td>\n",
       "      <td>0</td>\n",
       "      <td>0</td>\n",
       "      <td>0</td>\n",
       "    </tr>\n",
       "    <tr>\n",
       "      <th>2</th>\n",
       "      <td>Data Scientist</td>\n",
       "      <td>$87K-$142K</td>\n",
       "      <td>At Farm Credit Mid-America, we believe people ...</td>\n",
       "      <td>4.1</td>\n",
       "      <td>Farm Credit Mid-America\\n4.1</td>\n",
       "      <td>Louisville, KY</td>\n",
       "      <td>-1</td>\n",
       "      <td>1001 to 5000 Employees</td>\n",
       "      <td>1985</td>\n",
       "      <td>Company - Private</td>\n",
       "      <td>Lending</td>\n",
       "      <td>Finance</td>\n",
       "      <td>$100 to $500 million (USD)</td>\n",
       "      <td>-1</td>\n",
       "      <td>87</td>\n",
       "      <td>142</td>\n",
       "      <td>114.5</td>\n",
       "      <td>Farm Credit Mid-America</td>\n",
       "      <td>KY</td>\n",
       "      <td>35</td>\n",
       "      <td>0</td>\n",
       "      <td>0</td>\n",
       "      <td>0</td>\n",
       "      <td>0</td>\n",
       "      <td>0</td>\n",
       "      <td>0</td>\n",
       "    </tr>\n",
       "    <tr>\n",
       "      <th>3</th>\n",
       "      <td>Data Scientist</td>\n",
       "      <td>$98K-$165K</td>\n",
       "      <td>Tradeweb is looking to add a Data Scientist to...</td>\n",
       "      <td>4.4</td>\n",
       "      <td>Tradeweb Markets LLC\\n4.4</td>\n",
       "      <td>New York, NY</td>\n",
       "      <td>-1</td>\n",
       "      <td>501 to 1000 Employees</td>\n",
       "      <td>1997</td>\n",
       "      <td>Company - Public</td>\n",
       "      <td>Financial Transaction Processing</td>\n",
       "      <td>Finance</td>\n",
       "      <td>Unknown / Non-Applicable</td>\n",
       "      <td>-1</td>\n",
       "      <td>98</td>\n",
       "      <td>165</td>\n",
       "      <td>131.5</td>\n",
       "      <td>Tradeweb Markets LLC</td>\n",
       "      <td>NY</td>\n",
       "      <td>23</td>\n",
       "      <td>1</td>\n",
       "      <td>0</td>\n",
       "      <td>0</td>\n",
       "      <td>0</td>\n",
       "      <td>0</td>\n",
       "      <td>0</td>\n",
       "    </tr>\n",
       "    <tr>\n",
       "      <th>4</th>\n",
       "      <td>Data Scientist</td>\n",
       "      <td>$100K-$160K</td>\n",
       "      <td>Are you passionate about providing real impact...</td>\n",
       "      <td>4.6</td>\n",
       "      <td>Johns Hopkins Applied Physics Laboratory (APL)...</td>\n",
       "      <td>Laurel, MD</td>\n",
       "      <td>-1</td>\n",
       "      <td>5001 to 10000 Employees</td>\n",
       "      <td>1942</td>\n",
       "      <td>Nonprofit Organization</td>\n",
       "      <td>Aerospace &amp; Defense</td>\n",
       "      <td>Aerospace &amp; Defense</td>\n",
       "      <td>$1 to $2 billion (USD)</td>\n",
       "      <td>-1</td>\n",
       "      <td>100</td>\n",
       "      <td>160</td>\n",
       "      <td>130.0</td>\n",
       "      <td>Johns Hopkins Applied Physics Laboratory (APL)</td>\n",
       "      <td>MD</td>\n",
       "      <td>78</td>\n",
       "      <td>1</td>\n",
       "      <td>0</td>\n",
       "      <td>0</td>\n",
       "      <td>0</td>\n",
       "      <td>0</td>\n",
       "      <td>0</td>\n",
       "    </tr>\n",
       "  </tbody>\n",
       "</table>\n",
       "</div>"
      ],
      "text/plain": [
       "          job title salary estimate  \\\n",
       "0  Data Scientist 2       $52K-$95K   \n",
       "1    Data Scientist      $58K-$103K   \n",
       "2    Data Scientist      $87K-$142K   \n",
       "3    Data Scientist      $98K-$165K   \n",
       "4    Data Scientist     $100K-$160K   \n",
       "\n",
       "                                     job description  rating  \\\n",
       "0  Description\\nDigital Health and Analytics with...     3.9   \n",
       "1  Job Posting End Date: 12/24\\nUnum is a company...     3.9   \n",
       "2  At Farm Credit Mid-America, we believe people ...     4.1   \n",
       "3  Tradeweb is looking to add a Data Scientist to...     4.4   \n",
       "4  Are you passionate about providing real impact...     4.6   \n",
       "\n",
       "                                        company name        location  \\\n",
       "0                                        Humana\\n3.9  Louisville, KY   \n",
       "1                                          Unum\\n3.9    Portland, ME   \n",
       "2                       Farm Credit Mid-America\\n4.1  Louisville, KY   \n",
       "3                          Tradeweb Markets LLC\\n4.4    New York, NY   \n",
       "4  Johns Hopkins Applied Physics Laboratory (APL)...      Laurel, MD   \n",
       "\n",
       "   headquarters                     size  founded       type of ownership  \\\n",
       "0            -1         10000+ Employees     1961        Company - Public   \n",
       "1            -1  5001 to 10000 Employees     1848        Company - Public   \n",
       "2            -1   1001 to 5000 Employees     1985       Company - Private   \n",
       "3            -1    501 to 1000 Employees     1997        Company - Public   \n",
       "4            -1  5001 to 10000 Employees     1942  Nonprofit Organization   \n",
       "\n",
       "                           industry               sector  \\\n",
       "0                Insurance Carriers            Insurance   \n",
       "1                Insurance Carriers            Insurance   \n",
       "2                           Lending              Finance   \n",
       "3  Financial Transaction Processing              Finance   \n",
       "4               Aerospace & Defense  Aerospace & Defense   \n",
       "\n",
       "                      revenue  competitors  min_salary  max_salary  \\\n",
       "0          $10+ billion (USD)           -1          52          95   \n",
       "1          $10+ billion (USD)           -1          58         103   \n",
       "2  $100 to $500 million (USD)           -1          87         142   \n",
       "3    Unknown / Non-Applicable           -1          98         165   \n",
       "4      $1 to $2 billion (USD)           -1         100         160   \n",
       "\n",
       "   avg_salary                                     company_txt job_state  age  \\\n",
       "0        73.5                                          Humana        KY   59   \n",
       "1        80.5                                            Unum        ME  172   \n",
       "2       114.5                         Farm Credit Mid-America        KY   35   \n",
       "3       131.5                            Tradeweb Markets LLC        NY   23   \n",
       "4       130.0  Johns Hopkins Applied Physics Laboratory (APL)        MD   78   \n",
       "\n",
       "   python  R  spark  aws  cloud  excel  \n",
       "0       1  0      1    0      0      0  \n",
       "1       0  0      0    0      0      0  \n",
       "2       0  0      0    0      0      0  \n",
       "3       1  0      0    0      0      0  \n",
       "4       1  0      0    0      0      0  "
      ]
     },
     "execution_count": 145,
     "metadata": {},
     "output_type": "execute_result"
    }
   ],
   "source": [
    "df = pd.read_csv('salary-data-clean.csv')\n",
    "df.head()"
   ]
  },
  {
   "cell_type": "code",
   "execution_count": 157,
   "metadata": {},
   "outputs": [],
   "source": [
    "cols_to_drop = df.loc[:, (df == -1).all() | (df == 0).all()]\n",
    "#df.drop(cols_to_drop.columns, axis=1, inplace=True)\n",
    "df.drop(cols_to_drop, inplace=True, axis=1)"
   ]
  },
  {
   "cell_type": "markdown",
   "metadata": {},
   "source": [
    "## Extra Data Cleaning\n",
    "Here we fix the title of the jobs, we also add a column name *seniority* that shows whether the job title is senior or not. Further, we do some data cleaning on job state and fix its problems. "
   ]
  },
  {
   "cell_type": "code",
   "execution_count": 158,
   "metadata": {},
   "outputs": [],
   "source": [
    "def fix_title(title):\n",
    "    if 'data scientist' in title.lower():\n",
    "        return 'data scientist'\n",
    "    elif 'data engineer' in title.lower():\n",
    "        return 'data engineer'\n",
    "    elif 'machine learning' in title.lower():\n",
    "        return 'mle'\n",
    "    elif 'manager' in title.lower():\n",
    "        return 'manager'\n",
    "    elif 'director' in title.lower():\n",
    "        return 'director'\n",
    "    else:\n",
    "        return 'na'\n",
    "    \n",
    "def seniority(title):\n",
    "    if 'senior' in title.lower() or 'snr' in title.lower() or 'sr' in title.lower() or 'manager' in title.lower() or\\\n",
    "    'director' in title.lower() or 'principle' in title.lower():\n",
    "        return 'senior'\n",
    "    elif 'junior' in title.lower() or 'jr' in title.lower():\n",
    "        return 'junior'\n",
    "    else:\n",
    "        return 'na'\n",
    "    \n",
    "def fix_state(state):\n",
    "    state = state.strip().lower()\n",
    "    if 'arapahoe' in state:\n",
    "        return 'CO'\n",
    "    elif 'texas' in state:\n",
    "        return 'TX'\n",
    "    elif 'california' in state:\n",
    "        return 'CA'\n",
    "    elif 'cuyahoga' in state:\n",
    "        return 'OH'\n",
    "    elif 'new jersey' in state:\n",
    "        return 'NJ'\n",
    "    elif 'new york' in state:\n",
    "        return 'NY'\n",
    "    elif 'florida' in state:\n",
    "        return 'FL'\n",
    "    elif 'illinois' in state:\n",
    "        return 'IL'\n",
    "    elif 'arizona' in state:\n",
    "        return 'AZ'\n",
    "    elif 'tennessee' in state:\n",
    "        return 'TN'\n",
    "    elif 'virginia' in state:\n",
    "        return 'VA'\n",
    "    else:\n",
    "        return state\n",
    "    \n",
    "        "
   ]
  },
  {
   "cell_type": "code",
   "execution_count": 159,
   "metadata": {},
   "outputs": [
    {
     "data": {
      "text/plain": [
       "data scientist    997\n",
       "Name: job_title, dtype: int64"
      ]
     },
     "execution_count": 159,
     "metadata": {},
     "output_type": "execute_result"
    }
   ],
   "source": [
    "df['job_title'] = df['job title'].apply(fix_title)\n",
    "df['job_title'].value_counts()"
   ]
  },
  {
   "cell_type": "code",
   "execution_count": 160,
   "metadata": {},
   "outputs": [
    {
     "data": {
      "text/plain": [
       "na        926\n",
       "senior     68\n",
       "junior      3\n",
       "Name: seniority, dtype: int64"
      ]
     },
     "execution_count": 160,
     "metadata": {},
     "output_type": "execute_result"
    }
   ],
   "source": [
    "df['seniority'] = df['job title'].apply(seniority)\n",
    "df['seniority'].value_counts()"
   ]
  },
  {
   "cell_type": "code",
   "execution_count": 161,
   "metadata": {},
   "outputs": [],
   "source": [
    "df['state'] = df['job_state'].apply(fix_state)"
   ]
  },
  {
   "cell_type": "markdown",
   "metadata": {},
   "source": [
    "We now drop the extra columns"
   ]
  },
  {
   "cell_type": "code",
   "execution_count": 162,
   "metadata": {},
   "outputs": [],
   "source": [
    "df.drop('job title', axis=1, inplace=True)\n",
    "df.drop('job_state', axis=1, inplace=True)"
   ]
  },
  {
   "cell_type": "markdown",
   "metadata": {},
   "source": [
    "We find the length of job description for each job."
   ]
  },
  {
   "cell_type": "code",
   "execution_count": 163,
   "metadata": {},
   "outputs": [
    {
     "data": {
      "text/plain": [
       "0      3525\n",
       "1      5564\n",
       "2      6569\n",
       "3      2944\n",
       "4      2923\n",
       "       ... \n",
       "992    1503\n",
       "993    4520\n",
       "994    4973\n",
       "995    1897\n",
       "996    4908\n",
       "Name: desc_len, Length: 997, dtype: int64"
      ]
     },
     "execution_count": 163,
     "metadata": {},
     "output_type": "execute_result"
    }
   ],
   "source": [
    "df['desc_len'] = df['job description'].apply(lambda x: len(x))\n",
    "df['desc_len']"
   ]
  },
  {
   "cell_type": "markdown",
   "metadata": {},
   "source": [
    "Remove the new line character from company_txt"
   ]
  },
  {
   "cell_type": "markdown",
   "metadata": {},
   "source": [
    "## EDA"
   ]
  },
  {
   "cell_type": "code",
   "execution_count": 164,
   "metadata": {},
   "outputs": [
    {
     "data": {
      "text/html": [
       "<div>\n",
       "<style scoped>\n",
       "    .dataframe tbody tr th:only-of-type {\n",
       "        vertical-align: middle;\n",
       "    }\n",
       "\n",
       "    .dataframe tbody tr th {\n",
       "        vertical-align: top;\n",
       "    }\n",
       "\n",
       "    .dataframe thead th {\n",
       "        text-align: right;\n",
       "    }\n",
       "</style>\n",
       "<table border=\"1\" class=\"dataframe\">\n",
       "  <thead>\n",
       "    <tr style=\"text-align: right;\">\n",
       "      <th></th>\n",
       "      <th>rating</th>\n",
       "      <th>founded</th>\n",
       "      <th>min_salary</th>\n",
       "      <th>max_salary</th>\n",
       "      <th>avg_salary</th>\n",
       "      <th>age</th>\n",
       "      <th>python</th>\n",
       "      <th>R</th>\n",
       "      <th>spark</th>\n",
       "      <th>aws</th>\n",
       "      <th>cloud</th>\n",
       "      <th>desc_len</th>\n",
       "    </tr>\n",
       "  </thead>\n",
       "  <tbody>\n",
       "    <tr>\n",
       "      <th>count</th>\n",
       "      <td>997.000000</td>\n",
       "      <td>997.000000</td>\n",
       "      <td>997.000000</td>\n",
       "      <td>997.000000</td>\n",
       "      <td>997.000000</td>\n",
       "      <td>997.000000</td>\n",
       "      <td>997.000000</td>\n",
       "      <td>997.000000</td>\n",
       "      <td>997.000000</td>\n",
       "      <td>997.000000</td>\n",
       "      <td>997.000000</td>\n",
       "      <td>997.000000</td>\n",
       "    </tr>\n",
       "    <tr>\n",
       "      <th>mean</th>\n",
       "      <td>3.050853</td>\n",
       "      <td>1404.235707</td>\n",
       "      <td>77.486459</td>\n",
       "      <td>128.106319</td>\n",
       "      <td>102.796389</td>\n",
       "      <td>27.619860</td>\n",
       "      <td>0.817452</td>\n",
       "      <td>0.004012</td>\n",
       "      <td>0.254764</td>\n",
       "      <td>0.235707</td>\n",
       "      <td>0.269809</td>\n",
       "      <td>3555.474423</td>\n",
       "    </tr>\n",
       "    <tr>\n",
       "      <th>std</th>\n",
       "      <td>1.882778</td>\n",
       "      <td>901.274063</td>\n",
       "      <td>19.319057</td>\n",
       "      <td>28.587580</td>\n",
       "      <td>23.865002</td>\n",
       "      <td>42.814592</td>\n",
       "      <td>0.386489</td>\n",
       "      <td>0.063245</td>\n",
       "      <td>0.435947</td>\n",
       "      <td>0.424653</td>\n",
       "      <td>0.444083</td>\n",
       "      <td>1510.311395</td>\n",
       "    </tr>\n",
       "    <tr>\n",
       "      <th>min</th>\n",
       "      <td>-1.000000</td>\n",
       "      <td>-1.000000</td>\n",
       "      <td>52.000000</td>\n",
       "      <td>93.000000</td>\n",
       "      <td>73.000000</td>\n",
       "      <td>-1.000000</td>\n",
       "      <td>0.000000</td>\n",
       "      <td>0.000000</td>\n",
       "      <td>0.000000</td>\n",
       "      <td>0.000000</td>\n",
       "      <td>0.000000</td>\n",
       "      <td>535.000000</td>\n",
       "    </tr>\n",
       "    <tr>\n",
       "      <th>25%</th>\n",
       "      <td>3.200000</td>\n",
       "      <td>-1.000000</td>\n",
       "      <td>65.000000</td>\n",
       "      <td>106.000000</td>\n",
       "      <td>85.500000</td>\n",
       "      <td>-1.000000</td>\n",
       "      <td>1.000000</td>\n",
       "      <td>0.000000</td>\n",
       "      <td>0.000000</td>\n",
       "      <td>0.000000</td>\n",
       "      <td>0.000000</td>\n",
       "      <td>2474.000000</td>\n",
       "    </tr>\n",
       "    <tr>\n",
       "      <th>50%</th>\n",
       "      <td>3.700000</td>\n",
       "      <td>1978.000000</td>\n",
       "      <td>69.000000</td>\n",
       "      <td>119.000000</td>\n",
       "      <td>94.500000</td>\n",
       "      <td>12.000000</td>\n",
       "      <td>1.000000</td>\n",
       "      <td>0.000000</td>\n",
       "      <td>0.000000</td>\n",
       "      <td>0.000000</td>\n",
       "      <td>0.000000</td>\n",
       "      <td>3379.000000</td>\n",
       "    </tr>\n",
       "    <tr>\n",
       "      <th>75%</th>\n",
       "      <td>4.100000</td>\n",
       "      <td>2006.000000</td>\n",
       "      <td>90.000000</td>\n",
       "      <td>149.000000</td>\n",
       "      <td>120.500000</td>\n",
       "      <td>35.000000</td>\n",
       "      <td>1.000000</td>\n",
       "      <td>0.000000</td>\n",
       "      <td>1.000000</td>\n",
       "      <td>0.000000</td>\n",
       "      <td>1.000000</td>\n",
       "      <td>4615.000000</td>\n",
       "    </tr>\n",
       "    <tr>\n",
       "      <th>max</th>\n",
       "      <td>5.000000</td>\n",
       "      <td>2020.000000</td>\n",
       "      <td>135.000000</td>\n",
       "      <td>212.000000</td>\n",
       "      <td>173.500000</td>\n",
       "      <td>238.000000</td>\n",
       "      <td>1.000000</td>\n",
       "      <td>1.000000</td>\n",
       "      <td>1.000000</td>\n",
       "      <td>1.000000</td>\n",
       "      <td>1.000000</td>\n",
       "      <td>12240.000000</td>\n",
       "    </tr>\n",
       "  </tbody>\n",
       "</table>\n",
       "</div>"
      ],
      "text/plain": [
       "           rating      founded  min_salary  max_salary  avg_salary  \\\n",
       "count  997.000000   997.000000  997.000000  997.000000  997.000000   \n",
       "mean     3.050853  1404.235707   77.486459  128.106319  102.796389   \n",
       "std      1.882778   901.274063   19.319057   28.587580   23.865002   \n",
       "min     -1.000000    -1.000000   52.000000   93.000000   73.000000   \n",
       "25%      3.200000    -1.000000   65.000000  106.000000   85.500000   \n",
       "50%      3.700000  1978.000000   69.000000  119.000000   94.500000   \n",
       "75%      4.100000  2006.000000   90.000000  149.000000  120.500000   \n",
       "max      5.000000  2020.000000  135.000000  212.000000  173.500000   \n",
       "\n",
       "              age      python           R       spark         aws       cloud  \\\n",
       "count  997.000000  997.000000  997.000000  997.000000  997.000000  997.000000   \n",
       "mean    27.619860    0.817452    0.004012    0.254764    0.235707    0.269809   \n",
       "std     42.814592    0.386489    0.063245    0.435947    0.424653    0.444083   \n",
       "min     -1.000000    0.000000    0.000000    0.000000    0.000000    0.000000   \n",
       "25%     -1.000000    1.000000    0.000000    0.000000    0.000000    0.000000   \n",
       "50%     12.000000    1.000000    0.000000    0.000000    0.000000    0.000000   \n",
       "75%     35.000000    1.000000    0.000000    1.000000    0.000000    1.000000   \n",
       "max    238.000000    1.000000    1.000000    1.000000    1.000000    1.000000   \n",
       "\n",
       "           desc_len  \n",
       "count    997.000000  \n",
       "mean    3555.474423  \n",
       "std     1510.311395  \n",
       "min      535.000000  \n",
       "25%     2474.000000  \n",
       "50%     3379.000000  \n",
       "75%     4615.000000  \n",
       "max    12240.000000  "
      ]
     },
     "execution_count": 164,
     "metadata": {},
     "output_type": "execute_result"
    }
   ],
   "source": [
    "df.describe()"
   ]
  },
  {
   "cell_type": "markdown",
   "metadata": {},
   "source": [
    "We want to see the histogram of our numerical variables."
   ]
  },
  {
   "cell_type": "code",
   "execution_count": 167,
   "metadata": {},
   "outputs": [
    {
     "data": {
      "text/plain": [
       "Index(['salary estimate', 'job description', 'rating', 'company name',\n",
       "       'location', 'size', 'founded', 'type of ownership', 'industry',\n",
       "       'sector', 'revenue', 'min_salary', 'max_salary', 'avg_salary',\n",
       "       'company_txt', 'age', 'python', 'R', 'spark', 'aws', 'cloud',\n",
       "       'job_title', 'seniority', 'state', 'desc_len'],\n",
       "      dtype='object')"
      ]
     },
     "execution_count": 167,
     "metadata": {},
     "output_type": "execute_result"
    }
   ],
   "source": [
    "df.columns"
   ]
  },
  {
   "cell_type": "code",
   "execution_count": 168,
   "metadata": {},
   "outputs": [
    {
     "data": {
      "image/png": "[encoded data removed]",
      "text/plain": [
       "<Figure size 432x288 with 1 Axes>"
      ]
     },
     "metadata": {
      "needs_background": "light"
     },
     "output_type": "display_data"
    }
   ],
   "source": [
    "df['rating'].hist();"
   ]
  },
  {
   "cell_type": "code",
   "execution_count": 169,
   "metadata": {},
   "outputs": [
    {
     "data": {
      "image/png": "[encoded data removed]",
      "text/plain": [
       "<Figure size 432x288 with 1 Axes>"
      ]
     },
     "metadata": {
      "needs_background": "light"
     },
     "output_type": "display_data"
    }
   ],
   "source": [
    "df['avg_salary'].hist(bins=10);"
   ]
  },
  {
   "cell_type": "code",
   "execution_count": 170,
   "metadata": {},
   "outputs": [
    {
     "data": {
      "image/png": "[encoded data removed]",
      "text/plain": [
       "<Figure size 432x288 with 1 Axes>"
      ]
     },
     "metadata": {
      "needs_background": "light"
     },
     "output_type": "display_data"
    }
   ],
   "source": [
    "df['age'].hist();"
   ]
  },
  {
   "cell_type": "code",
   "execution_count": 171,
   "metadata": {},
   "outputs": [
    {
     "data": {
      "image/png": "[encoded data removed]",
      "text/plain": [
       "<Figure size 432x288 with 1 Axes>"
      ]
     },
     "metadata": {
      "needs_background": "light"
     },
     "output_type": "display_data"
    }
   ],
   "source": [
    "df['desc_len'].hist();"
   ]
  },
  {
   "cell_type": "markdown",
   "metadata": {},
   "source": [
    "We can also use boxplot to see the distribution of numerical variables."
   ]
  },
  {
   "cell_type": "code",
   "execution_count": 172,
   "metadata": {},
   "outputs": [
    {
     "data": {
      "text/plain": [
       "<AxesSubplot:>"
      ]
     },
     "execution_count": 172,
     "metadata": {},
     "output_type": "execute_result"
    },
    {
     "data": {
      "image/png": "[encoded data removed]",
      "text/plain": [
       "<Figure size 432x288 with 1 Axes>"
      ]
     },
     "metadata": {
      "needs_background": "light"
     },
     "output_type": "display_data"
    }
   ],
   "source": [
    "df.boxplot(column=['avg_salary', 'age'])"
   ]
  },
  {
   "cell_type": "code",
   "execution_count": 173,
   "metadata": {},
   "outputs": [
    {
     "data": {
      "text/plain": [
       "<AxesSubplot:>"
      ]
     },
     "execution_count": 173,
     "metadata": {},
     "output_type": "execute_result"
    },
    {
     "data": {
      "image/png": "[encoded data removed]",
      "text/plain": [
       "<Figure size 432x288 with 1 Axes>"
      ]
     },
     "metadata": {
      "needs_background": "light"
     },
     "output_type": "display_data"
    }
   ],
   "source": [
    "df.boxplot(column='rating')"
   ]
  },
  {
   "cell_type": "markdown",
   "metadata": {},
   "source": [
    "We now take a look at correlations between numerical variables."
   ]
  },
  {
   "cell_type": "code",
   "execution_count": 174,
   "metadata": {},
   "outputs": [
    {
     "data": {
      "text/html": [
       "<div>\n",
       "<style scoped>\n",
       "    .dataframe tbody tr th:only-of-type {\n",
       "        vertical-align: middle;\n",
       "    }\n",
       "\n",
       "    .dataframe tbody tr th {\n",
       "        vertical-align: top;\n",
       "    }\n",
       "\n",
       "    .dataframe thead th {\n",
       "        text-align: right;\n",
       "    }\n",
       "</style>\n",
       "<table border=\"1\" class=\"dataframe\">\n",
       "  <thead>\n",
       "    <tr style=\"text-align: right;\">\n",
       "      <th></th>\n",
       "      <th>avg_salary</th>\n",
       "      <th>age</th>\n",
       "      <th>rating</th>\n",
       "      <th>desc_len</th>\n",
       "    </tr>\n",
       "  </thead>\n",
       "  <tbody>\n",
       "    <tr>\n",
       "      <th>avg_salary</th>\n",
       "      <td>1.000000</td>\n",
       "      <td>0.014625</td>\n",
       "      <td>0.084944</td>\n",
       "      <td>0.048649</td>\n",
       "    </tr>\n",
       "    <tr>\n",
       "      <th>age</th>\n",
       "      <td>0.014625</td>\n",
       "      <td>1.000000</td>\n",
       "      <td>0.252637</td>\n",
       "      <td>0.229461</td>\n",
       "    </tr>\n",
       "    <tr>\n",
       "      <th>rating</th>\n",
       "      <td>0.084944</td>\n",
       "      <td>0.252637</td>\n",
       "      <td>1.000000</td>\n",
       "      <td>0.182762</td>\n",
       "    </tr>\n",
       "    <tr>\n",
       "      <th>desc_len</th>\n",
       "      <td>0.048649</td>\n",
       "      <td>0.229461</td>\n",
       "      <td>0.182762</td>\n",
       "      <td>1.000000</td>\n",
       "    </tr>\n",
       "  </tbody>\n",
       "</table>\n",
       "</div>"
      ],
      "text/plain": [
       "            avg_salary       age    rating  desc_len\n",
       "avg_salary    1.000000  0.014625  0.084944  0.048649\n",
       "age           0.014625  1.000000  0.252637  0.229461\n",
       "rating        0.084944  0.252637  1.000000  0.182762\n",
       "desc_len      0.048649  0.229461  0.182762  1.000000"
      ]
     },
     "execution_count": 174,
     "metadata": {},
     "output_type": "execute_result"
    }
   ],
   "source": [
    "corr = df[['avg_salary', 'age', 'rating', 'desc_len']].corr()\n",
    "corr"
   ]
  },
  {
   "cell_type": "code",
   "execution_count": 175,
   "metadata": {},
   "outputs": [
    {
     "data": {
      "image/png": "[encoded data removed]",
      "text/plain": [
       "<Figure size 432x288 with 2 Axes>"
      ]
     },
     "metadata": {
      "needs_background": "light"
     },
     "output_type": "display_data"
    }
   ],
   "source": [
    "cmap = sns.diverging_palette(220, 10, as_cmap = True)\n",
    "sns.heatmap(corr, cmap = cmap, vmax=.3, center=0, square=True);"
   ]
  },
  {
   "cell_type": "markdown",
   "metadata": {},
   "source": [
    "The above chart shows that there is relatively high correlation between *rating* and 'age', also between 'desc_len' and 'age'. "
   ]
  },
  {
   "cell_type": "markdown",
   "metadata": {},
   "source": [
    "Now we visualize categorical variables."
   ]
  },
  {
   "cell_type": "code",
   "execution_count": 203,
   "metadata": {},
   "outputs": [
    {
     "name": "stdout",
     "output_type": "stream",
     "text": [
      "graph for size, total=9\n"
     ]
    },
    {
     "data": {
      "image/png": "[encoded data removed]",
      "text/plain": [
       "<Figure size 720x576 with 1 Axes>"
      ]
     },
     "metadata": {
      "needs_background": "light"
     },
     "output_type": "display_data"
    },
    {
     "name": "stdout",
     "output_type": "stream",
     "text": [
      "graph for type of ownership, total=13\n"
     ]
    },
    {
     "data": {
      "image/png": "[encoded data removed]",
      "text/plain": [
       "<Figure size 720x576 with 1 Axes>"
      ]
     },
     "metadata": {
      "needs_background": "light"
     },
     "output_type": "display_data"
    },
    {
     "name": "stdout",
     "output_type": "stream",
     "text": [
      "graph for sector, total=22\n"
     ]
    },
    {
     "data": {
      "image/png": "[encoded data removed]",
      "text/plain": [
       "<Figure size 720x576 with 1 Axes>"
      ]
     },
     "metadata": {
      "needs_background": "light"
     },
     "output_type": "display_data"
    },
    {
     "name": "stdout",
     "output_type": "stream",
     "text": [
      "graph for seniority, total=3\n"
     ]
    },
    {
     "data": {
      "image/png": "[encoded data removed]",
      "text/plain": [
       "<Figure size 720x576 with 1 Axes>"
      ]
     },
     "metadata": {
      "needs_background": "light"
     },
     "output_type": "display_data"
    },
    {
     "name": "stdout",
     "output_type": "stream",
     "text": [
      "graph for state, total=52\n"
     ]
    },
    {
     "data": {
      "image/png": "[encoded data removed]",
      "text/plain": [
       "<Figure size 720x576 with 1 Axes>"
      ]
     },
     "metadata": {
      "needs_background": "light"
     },
     "output_type": "display_data"
    }
   ],
   "source": [
    "df_cat = df[['size', 'type of ownership', 'sector', 'seniority', 'state']]\n",
    "for name in df_cat.columns:\n",
    "    cat_num = df_cat[name].value_counts()\n",
    "    print(f'graph for {name}, total={len(cat_num)}')\n",
    "    plt.figure(figsize=(10, 8))\n",
    "    graph = sns.barplot(x=cat_num.index, y=cat_num)\n",
    "    graph.set_xticklabels(graph.get_xticklabels(), rotation=90)\n",
    "    plt.show()"
   ]
  },
  {
   "cell_type": "markdown",
   "metadata": {},
   "source": [
    "For better visualisation in high-dimensional variables, we select top 20 variables and visualise those variables."
   ]
  },
  {
   "cell_type": "code",
   "execution_count": 213,
   "metadata": {},
   "outputs": [
    {
     "name": "stdout",
     "output_type": "stream",
     "text": [
      "graph for company_txt, total=20\n"
     ]
    },
    {
     "data": {
      "image/png": "[encoded data removed]",
      "text/plain": [
       "<Figure size 720x576 with 1 Axes>"
      ]
     },
     "metadata": {
      "needs_background": "light"
     },
     "output_type": "display_data"
    },
    {
     "name": "stdout",
     "output_type": "stream",
     "text": [
      "graph for location, total=20\n"
     ]
    },
    {
     "data": {
      "image/png": "[encoded data removed]",
      "text/plain": [
       "<Figure size 720x576 with 1 Axes>"
      ]
     },
     "metadata": {
      "needs_background": "light"
     },
     "output_type": "display_data"
    }
   ],
   "source": [
    "df_cat = df[['company_txt', 'location']]\n",
    "for name in df_cat.columns:\n",
    "    cat_num = df_cat[name].value_counts()[:20]\n",
    "    print(f'graph for {name}, total={len(cat_num)}')\n",
    "    plt.figure(figsize=(10, 8))\n",
    "    graph = sns.barplot(x=cat_num.index, y=cat_num)\n",
    "    graph.set_xticklabels(graph.get_xticklabels(), rotation=90)\n",
    "    plt.show()"
   ]
  },
  {
   "cell_type": "code",
   "execution_count": 214,
   "metadata": {},
   "outputs": [
    {
     "data": {
      "text/plain": [
       "Index(['salary estimate', 'job description', 'rating', 'company name',\n",
       "       'location', 'size', 'founded', 'type of ownership', 'industry',\n",
       "       'sector', 'revenue', 'min_salary', 'max_salary', 'avg_salary',\n",
       "       'company_txt', 'age', 'python', 'R', 'spark', 'aws', 'cloud',\n",
       "       'job_title', 'seniority', 'state', 'desc_len'],\n",
       "      dtype='object')"
      ]
     },
     "execution_count": 214,
     "metadata": {},
     "output_type": "execute_result"
    }
   ],
   "source": [
    "df.columns"
   ]
  },
  {
   "cell_type": "code",
   "execution_count": 228,
   "metadata": {},
   "outputs": [
    {
     "data": {
      "text/html": [
       "<div>\n",
       "<style scoped>\n",
       "    .dataframe tbody tr th:only-of-type {\n",
       "        vertical-align: middle;\n",
       "    }\n",
       "\n",
       "    .dataframe tbody tr th {\n",
       "        vertical-align: top;\n",
       "    }\n",
       "\n",
       "    .dataframe thead th {\n",
       "        text-align: right;\n",
       "    }\n",
       "</style>\n",
       "<table border=\"1\" class=\"dataframe\">\n",
       "  <thead>\n",
       "    <tr style=\"text-align: right;\">\n",
       "      <th></th>\n",
       "      <th>avg_salary</th>\n",
       "    </tr>\n",
       "    <tr>\n",
       "      <th>state</th>\n",
       "      <th></th>\n",
       "    </tr>\n",
       "  </thead>\n",
       "  <tbody>\n",
       "    <tr>\n",
       "      <th>de</th>\n",
       "      <td>173.50</td>\n",
       "    </tr>\n",
       "    <tr>\n",
       "      <th>TN</th>\n",
       "      <td>156.00</td>\n",
       "    </tr>\n",
       "    <tr>\n",
       "      <th>ms</th>\n",
       "      <td>127.00</td>\n",
       "    </tr>\n",
       "    <tr>\n",
       "      <th>NJ</th>\n",
       "      <td>120.25</td>\n",
       "    </tr>\n",
       "    <tr>\n",
       "      <th>CA</th>\n",
       "      <td>116.50</td>\n",
       "    </tr>\n",
       "  </tbody>\n",
       "</table>\n",
       "</div>"
      ],
      "text/plain": [
       "       avg_salary\n",
       "state            \n",
       "de         173.50\n",
       "TN         156.00\n",
       "ms         127.00\n",
       "NJ         120.25\n",
       "CA         116.50"
      ]
     },
     "execution_count": 228,
     "metadata": {},
     "output_type": "execute_result"
    }
   ],
   "source": [
    "pd.pivot_table(index = ['state'], values='avg_salary', data=df).sort_values('avg_salary', ascending=False)[:5]"
   ]
  },
  {
   "cell_type": "code",
   "execution_count": 229,
   "metadata": {},
   "outputs": [
    {
     "data": {
      "text/plain": [
       "Index(['salary estimate', 'job description', 'rating', 'company name',\n",
       "       'location', 'size', 'founded', 'type of ownership', 'industry',\n",
       "       'sector', 'revenue', 'min_salary', 'max_salary', 'avg_salary',\n",
       "       'company_txt', 'age', 'python', 'R', 'spark', 'aws', 'cloud',\n",
       "       'job_title', 'seniority', 'state', 'desc_len'],\n",
       "      dtype='object')"
      ]
     },
     "execution_count": 229,
     "metadata": {},
     "output_type": "execute_result"
    }
   ],
   "source": [
    "df.columns"
   ]
  },
  {
   "cell_type": "code",
   "execution_count": 239,
   "metadata": {},
   "outputs": [
    {
     "name": "stdout",
     "output_type": "stream",
     "text": [
      "rating\n",
      "        avg_salary\n",
      "rating            \n",
      " 2.8    135.750000\n",
      " 2.0    110.250000\n",
      " 2.9    109.450000\n",
      " 5.0    109.104651\n",
      " 3.5    108.793478\n",
      " 3.8    108.370690\n",
      " 3.0    108.100000\n",
      " 4.1    106.794118\n",
      " 3.2    106.750000\n",
      " 4.0    105.654545\n",
      " 4.7    105.020000\n",
      " 2.6    104.500000\n",
      " 3.3    104.324324\n",
      " 4.2    104.088889\n",
      " 3.6    103.840278\n",
      " 4.3    103.540541\n",
      " 4.8    102.678571\n",
      " 3.1    102.421053\n",
      " 2.3    102.250000\n",
      " 4.4    101.844828\n",
      " 3.7    100.472727\n",
      " 4.6    100.105263\n",
      " 4.5     98.703704\n",
      " 3.4     98.210000\n",
      "-1.0     98.078788\n",
      " 3.9     97.257576\n",
      " 4.9     96.666667\n",
      " 2.7     91.227273\n",
      " 2.5     89.333333\n",
      " 1.0     86.750000\n",
      "industry\n",
      "                                     avg_salary\n",
      "industry                                       \n",
      "Food & Beverage Manufacturing        173.500000\n",
      "Media & Entertainment Retail Stores  173.500000\n",
      "Shipping                             173.500000\n",
      "News Outlet                          150.333333\n",
      "Food & Beverage Stores               135.000000\n",
      "...                                         ...\n",
      "Video Games                           87.846154\n",
      "Education Training Services           83.000000\n",
      "Radio                                 79.500000\n",
      "Legal                                 79.500000\n",
      "Stock Exchanges                       79.000000\n",
      "\n",
      "[70 rows x 1 columns]\n",
      "sector\n",
      "                                  avg_salary\n",
      "sector                                      \n",
      "Arts, Entertainment & Recreation  120.750000\n",
      "Real Estate                       120.166667\n",
      "Biotech & Pharmaceuticals         114.227273\n",
      "Government                        112.888889\n",
      "Manufacturing                     110.378049\n",
      "Agriculture & Forestry            108.000000\n",
      "Transportation & Logistics        107.818182\n",
      "Aerospace & Defense               107.155556\n",
      "Oil, Gas, Energy & Utilities      105.076923\n",
      "Retail                            104.954545\n",
      "Non-Profit                        104.714286\n",
      "Information Technology            103.829832\n",
      "Media                             102.982143\n",
      "Finance                           102.641304\n",
      "Telecommunications                101.181818\n",
      "Business Services                 100.982927\n",
      "Health Care                        99.941176\n",
      "Education                          99.852941\n",
      "-1                                 99.519900\n",
      "Accounting & Legal                 98.958333\n",
      "Insurance                          97.229167\n",
      "Consumer Services                  88.000000\n",
      "revenue\n",
      "                                  avg_salary\n",
      "revenue                                     \n",
      "$500 million to $1 billion (USD)  109.926471\n",
      "$25 to $50 million (USD)          107.040816\n",
      "$10+ billion (USD)                106.801802\n",
      "$2 to $5 billion (USD)            105.192308\n",
      "Unknown / Non-Applicable          104.127706\n",
      "$1 to $5 million (USD)            103.571429\n",
      "$100 to $500 million (USD)        103.419753\n",
      "$1 to $2 billion (USD)            102.965116\n",
      "$50 to $100 million (USD)         101.416667\n",
      "Less than $1 million (USD)         99.604651\n",
      "$5 to $10 million (USD)            98.883333\n",
      "$5 to $10 billion (USD)            98.291667\n",
      "-1                                 98.237374\n",
      "$10 to $25 million (USD)           98.110000\n",
      "python\n",
      "        avg_salary\n",
      "python            \n",
      "0       104.901099\n",
      "1       102.326380\n",
      "R\n",
      "   avg_salary\n",
      "R            \n",
      "0  102.825277\n",
      "1   95.625000\n",
      "spark\n",
      "       avg_salary\n",
      "spark            \n",
      "0      103.041723\n",
      "1      102.078740\n",
      "aws\n",
      "     avg_salary\n",
      "aws            \n",
      "1    106.429787\n",
      "0    101.675853\n",
      "cloud\n",
      "       avg_salary\n",
      "cloud            \n",
      "1      104.856877\n",
      "0      102.035027\n",
      "type of ownership\n",
      "                                avg_salary\n",
      "type of ownership                         \n",
      "Other Organization              111.500000\n",
      "Government                      109.000000\n",
      "College / University            105.125000\n",
      "Company - Public                103.759336\n",
      "Company - Private               103.754596\n",
      "Subsidiary or Business Segment  100.750000\n",
      "Private Practice / Firm         100.500000\n",
      "Nonprofit Organization          100.133333\n",
      "-1                               98.237374\n",
      "Contract                         95.375000\n",
      "Hospital                         92.875000\n",
      "Unknown                          88.857143\n",
      "Self-employed                    74.000000\n"
     ]
    }
   ],
   "source": [
    "df_pivots = df[['rating', 'industry', 'sector', 'revenue', 'python', 'R', \n",
    "                'spark', 'aws', 'cloud', 'type of ownership', 'avg_salary']]\n",
    "\n",
    "for i in df_pivots.columns[:-1]:\n",
    "    print(i)\n",
    "    print(pd.pivot_table(df_pivots, index=i, values='avg_salary').sort_values(by='avg_salary', ascending=False))"
   ]
  },
  {
   "cell_type": "code",
   "execution_count": 248,
   "metadata": {},
   "outputs": [
    {
     "data": {
      "text/html": [
       "<div>\n",
       "<style scoped>\n",
       "    .dataframe tbody tr th:only-of-type {\n",
       "        vertical-align: middle;\n",
       "    }\n",
       "\n",
       "    .dataframe tbody tr th {\n",
       "        vertical-align: top;\n",
       "    }\n",
       "\n",
       "    .dataframe thead tr th {\n",
       "        text-align: left;\n",
       "    }\n",
       "\n",
       "    .dataframe thead tr:last-of-type th {\n",
       "        text-align: right;\n",
       "    }\n",
       "</style>\n",
       "<table border=\"1\" class=\"dataframe\">\n",
       "  <thead>\n",
       "    <tr>\n",
       "      <th></th>\n",
       "      <th colspan=\"2\" halign=\"left\">avg_salary</th>\n",
       "    </tr>\n",
       "    <tr>\n",
       "      <th>python</th>\n",
       "      <th>0</th>\n",
       "      <th>1</th>\n",
       "    </tr>\n",
       "    <tr>\n",
       "      <th>revenue</th>\n",
       "      <th></th>\n",
       "      <th></th>\n",
       "    </tr>\n",
       "  </thead>\n",
       "  <tbody>\n",
       "    <tr>\n",
       "      <th>$1 to $2 billion (USD)</th>\n",
       "      <td>13</td>\n",
       "      <td>30</td>\n",
       "    </tr>\n",
       "    <tr>\n",
       "      <th>$1 to $5 million (USD)</th>\n",
       "      <td>5</td>\n",
       "      <td>30</td>\n",
       "    </tr>\n",
       "    <tr>\n",
       "      <th>$10 to $25 million (USD)</th>\n",
       "      <td>13</td>\n",
       "      <td>37</td>\n",
       "    </tr>\n",
       "    <tr>\n",
       "      <th>$10+ billion (USD)</th>\n",
       "      <td>17</td>\n",
       "      <td>94</td>\n",
       "    </tr>\n",
       "    <tr>\n",
       "      <th>$100 to $500 million (USD)</th>\n",
       "      <td>18</td>\n",
       "      <td>63</td>\n",
       "    </tr>\n",
       "    <tr>\n",
       "      <th>$2 to $5 billion (USD)</th>\n",
       "      <td>6</td>\n",
       "      <td>33</td>\n",
       "    </tr>\n",
       "    <tr>\n",
       "      <th>$25 to $50 million (USD)</th>\n",
       "      <td>9</td>\n",
       "      <td>40</td>\n",
       "    </tr>\n",
       "    <tr>\n",
       "      <th>$5 to $10 billion (USD)</th>\n",
       "      <td>3</td>\n",
       "      <td>21</td>\n",
       "    </tr>\n",
       "    <tr>\n",
       "      <th>$5 to $10 million (USD)</th>\n",
       "      <td>5</td>\n",
       "      <td>25</td>\n",
       "    </tr>\n",
       "    <tr>\n",
       "      <th>$50 to $100 million (USD)</th>\n",
       "      <td>3</td>\n",
       "      <td>39</td>\n",
       "    </tr>\n",
       "    <tr>\n",
       "      <th>$500 million to $1 billion (USD)</th>\n",
       "      <td>10</td>\n",
       "      <td>24</td>\n",
       "    </tr>\n",
       "    <tr>\n",
       "      <th>-1</th>\n",
       "      <td>15</td>\n",
       "      <td>84</td>\n",
       "    </tr>\n",
       "    <tr>\n",
       "      <th>Less than $1 million (USD)</th>\n",
       "      <td>17</td>\n",
       "      <td>112</td>\n",
       "    </tr>\n",
       "    <tr>\n",
       "      <th>Unknown / Non-Applicable</th>\n",
       "      <td>48</td>\n",
       "      <td>183</td>\n",
       "    </tr>\n",
       "  </tbody>\n",
       "</table>\n",
       "</div>"
      ],
      "text/plain": [
       "                                 avg_salary     \n",
       "python                                    0    1\n",
       "revenue                                         \n",
       "$1 to $2 billion (USD)                   13   30\n",
       "$1 to $5 million (USD)                    5   30\n",
       "$10 to $25 million (USD)                 13   37\n",
       "$10+ billion (USD)                       17   94\n",
       "$100 to $500 million (USD)               18   63\n",
       "$2 to $5 billion (USD)                    6   33\n",
       "$25 to $50 million (USD)                  9   40\n",
       "$5 to $10 billion (USD)                   3   21\n",
       "$5 to $10 million (USD)                   5   25\n",
       "$50 to $100 million (USD)                 3   39\n",
       "$500 million to $1 billion (USD)         10   24\n",
       "-1                                       15   84\n",
       "Less than $1 million (USD)               17  112\n",
       "Unknown / Non-Applicable                 48  183"
      ]
     },
     "execution_count": 248,
     "metadata": {},
     "output_type": "execute_result"
    }
   ],
   "source": [
    "pd.pivot_table(df_pivots, index='revenue', columns=['python'], values=['avg_salary'], aggfunc='count')"
   ]
  },
  {
   "cell_type": "code",
   "execution_count": null,
   "metadata": {},
   "outputs": [],
   "source": []
  }
 ],
 "metadata": {
  "kernelspec": {
   "display_name": "Python 3",
   "language": "python",
   "name": "python3"
  },
  "language_info": {
   "codemirror_mode": {
    "name": "ipython",
    "version": 3
   },
   "file_extension": ".py",
   "mimetype": "text/x-python",
   "name": "python",
   "nbconvert_exporter": "python",
   "pygments_lexer": "ipython3",
   "version": "3.8.5"
  }
 },
 "nbformat": 4,
 "nbformat_minor": 4
}
