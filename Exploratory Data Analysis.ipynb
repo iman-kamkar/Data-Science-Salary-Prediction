{
 "cells": [
  {
   "cell_type": "code",
   "execution_count": 1,
   "metadata": {},
   "outputs": [],
   "source": [
    "import pandas as pd\n",
    "pd.set_option('display.max_columns', None)\n",
    "import matplotlib.pyplot as plt\n",
    "import seaborn as sns"
   ]
  },
  {
   "cell_type": "markdown",
   "metadata": {},
   "source": [
    "## Reading Data\n"
   ]
  },
  {
   "cell_type": "code",
   "execution_count": 2,
   "metadata": {},
   "outputs": [
    {
     "data": {
      "text/html": [
       "<div>\n",
       "<style scoped>\n",
       "    .dataframe tbody tr th:only-of-type {\n",
       "        vertical-align: middle;\n",
       "    }\n",
       "\n",
       "    .dataframe tbody tr th {\n",
       "        vertical-align: top;\n",
       "    }\n",
       "\n",
       "    .dataframe thead th {\n",
       "        text-align: right;\n",
       "    }\n",
       "</style>\n",
       "<table border=\"1\" class=\"dataframe\">\n",
       "  <thead>\n",
       "    <tr style=\"text-align: right;\">\n",
       "      <th></th>\n",
       "      <th>job title</th>\n",
       "      <th>salary estimate</th>\n",
       "      <th>job description</th>\n",
       "      <th>rating</th>\n",
       "      <th>company name</th>\n",
       "      <th>location</th>\n",
       "      <th>size</th>\n",
       "      <th>founded</th>\n",
       "      <th>type of ownership</th>\n",
       "      <th>industry</th>\n",
       "      <th>sector</th>\n",
       "      <th>revenue</th>\n",
       "      <th>min_salary</th>\n",
       "      <th>max_salary</th>\n",
       "      <th>avg_salary</th>\n",
       "      <th>company_txt</th>\n",
       "      <th>job_state</th>\n",
       "      <th>age</th>\n",
       "      <th>python</th>\n",
       "      <th>R</th>\n",
       "      <th>spark</th>\n",
       "      <th>aws</th>\n",
       "      <th>cloud</th>\n",
       "      <th>excel</th>\n",
       "    </tr>\n",
       "  </thead>\n",
       "  <tbody>\n",
       "    <tr>\n",
       "      <th>0</th>\n",
       "      <td>Data Scientist 2</td>\n",
       "      <td>$52K - $95K</td>\n",
       "      <td>description\\ndigital health and analytics with...</td>\n",
       "      <td>3.9</td>\n",
       "      <td>Humana</td>\n",
       "      <td>Louisville, KY</td>\n",
       "      <td>10000+ Employees</td>\n",
       "      <td>1961</td>\n",
       "      <td>Company - Public</td>\n",
       "      <td>Insurance Carriers</td>\n",
       "      <td>Insurance</td>\n",
       "      <td>$10+ billion (USD)</td>\n",
       "      <td>52</td>\n",
       "      <td>95</td>\n",
       "      <td>73.5</td>\n",
       "      <td>Humana</td>\n",
       "      <td>KY</td>\n",
       "      <td>59</td>\n",
       "      <td>1</td>\n",
       "      <td>0</td>\n",
       "      <td>1</td>\n",
       "      <td>0</td>\n",
       "      <td>0</td>\n",
       "      <td>0</td>\n",
       "    </tr>\n",
       "    <tr>\n",
       "      <th>1</th>\n",
       "      <td>Lead Data Scientist</td>\n",
       "      <td>$94K - $155K</td>\n",
       "      <td>description\\nthe lead data scientist uses math...</td>\n",
       "      <td>3.9</td>\n",
       "      <td>Humana</td>\n",
       "      <td>Boston, MA</td>\n",
       "      <td>10000+ Employees</td>\n",
       "      <td>1961</td>\n",
       "      <td>Company - Public</td>\n",
       "      <td>Insurance Carriers</td>\n",
       "      <td>Insurance</td>\n",
       "      <td>$10+ billion (USD)</td>\n",
       "      <td>94</td>\n",
       "      <td>155</td>\n",
       "      <td>124.5</td>\n",
       "      <td>Humana</td>\n",
       "      <td>MA</td>\n",
       "      <td>59</td>\n",
       "      <td>0</td>\n",
       "      <td>0</td>\n",
       "      <td>0</td>\n",
       "      <td>0</td>\n",
       "      <td>0</td>\n",
       "      <td>0</td>\n",
       "    </tr>\n",
       "    <tr>\n",
       "      <th>2</th>\n",
       "      <td>Data Scientist - Nutrisystem</td>\n",
       "      <td>$90K - $148K</td>\n",
       "      <td>description/responsibilities</td>\n",
       "      <td>2.7</td>\n",
       "      <td>Tivity Health</td>\n",
       "      <td>Fort Washington, PA</td>\n",
       "      <td>201 to 500 Employees</td>\n",
       "      <td>1981</td>\n",
       "      <td>Company - Public</td>\n",
       "      <td>Health Care Services &amp; Hospitals</td>\n",
       "      <td>Health Care</td>\n",
       "      <td>Unknown / Non-Applicable</td>\n",
       "      <td>90</td>\n",
       "      <td>148</td>\n",
       "      <td>119.0</td>\n",
       "      <td>Tivity Health</td>\n",
       "      <td>PA</td>\n",
       "      <td>39</td>\n",
       "      <td>0</td>\n",
       "      <td>0</td>\n",
       "      <td>0</td>\n",
       "      <td>0</td>\n",
       "      <td>0</td>\n",
       "      <td>0</td>\n",
       "    </tr>\n",
       "    <tr>\n",
       "      <th>3</th>\n",
       "      <td>Data Scientist</td>\n",
       "      <td>$74K - $123K</td>\n",
       "      <td>data scientist\\n\\n\\n\\nlocation\\n\\n\\n\\natlanta ...</td>\n",
       "      <td>2.6</td>\n",
       "      <td>Purchasing Power</td>\n",
       "      <td>Atlanta, GA</td>\n",
       "      <td>201 to 500 Employees</td>\n",
       "      <td>2001</td>\n",
       "      <td>Company - Private</td>\n",
       "      <td>Financial Transaction Processing</td>\n",
       "      <td>Finance</td>\n",
       "      <td>$100 to $500 million (USD)</td>\n",
       "      <td>74</td>\n",
       "      <td>123</td>\n",
       "      <td>98.5</td>\n",
       "      <td>Purchasing Power</td>\n",
       "      <td>GA</td>\n",
       "      <td>19</td>\n",
       "      <td>0</td>\n",
       "      <td>0</td>\n",
       "      <td>0</td>\n",
       "      <td>0</td>\n",
       "      <td>0</td>\n",
       "      <td>0</td>\n",
       "    </tr>\n",
       "    <tr>\n",
       "      <th>4</th>\n",
       "      <td>Data Analyst</td>\n",
       "      <td>$36K - $65K</td>\n",
       "      <td>description:</td>\n",
       "      <td>4.1</td>\n",
       "      <td>Conservice</td>\n",
       "      <td>Logan, UT</td>\n",
       "      <td>1001 to 5000 Employees</td>\n",
       "      <td>2000</td>\n",
       "      <td>Company - Private</td>\n",
       "      <td>Utilities</td>\n",
       "      <td>Oil, Gas, Energy &amp; Utilities</td>\n",
       "      <td>$50 to $100 million (USD)</td>\n",
       "      <td>36</td>\n",
       "      <td>65</td>\n",
       "      <td>50.5</td>\n",
       "      <td>Conservice</td>\n",
       "      <td>UT</td>\n",
       "      <td>20</td>\n",
       "      <td>0</td>\n",
       "      <td>0</td>\n",
       "      <td>0</td>\n",
       "      <td>0</td>\n",
       "      <td>0</td>\n",
       "      <td>0</td>\n",
       "    </tr>\n",
       "  </tbody>\n",
       "</table>\n",
       "</div>"
      ],
      "text/plain": [
       "                      job title salary estimate  \\\n",
       "0              Data Scientist 2     $52K - $95K   \n",
       "1           Lead Data Scientist    $94K - $155K   \n",
       "2  Data Scientist - Nutrisystem    $90K - $148K   \n",
       "3                Data Scientist    $74K - $123K   \n",
       "4                  Data Analyst     $36K - $65K   \n",
       "\n",
       "                                     job description  rating  \\\n",
       "0  description\\ndigital health and analytics with...     3.9   \n",
       "1  description\\nthe lead data scientist uses math...     3.9   \n",
       "2                       description/responsibilities     2.7   \n",
       "3  data scientist\\n\\n\\n\\nlocation\\n\\n\\n\\natlanta ...     2.6   \n",
       "4                                       description:     4.1   \n",
       "\n",
       "       company name             location                    size  founded  \\\n",
       "0            Humana       Louisville, KY        10000+ Employees     1961   \n",
       "1            Humana           Boston, MA        10000+ Employees     1961   \n",
       "2     Tivity Health  Fort Washington, PA    201 to 500 Employees     1981   \n",
       "3  Purchasing Power          Atlanta, GA    201 to 500 Employees     2001   \n",
       "4        Conservice            Logan, UT  1001 to 5000 Employees     2000   \n",
       "\n",
       "   type of ownership                          industry  \\\n",
       "0   Company - Public                Insurance Carriers   \n",
       "1   Company - Public                Insurance Carriers   \n",
       "2   Company - Public  Health Care Services & Hospitals   \n",
       "3  Company - Private  Financial Transaction Processing   \n",
       "4  Company - Private                         Utilities   \n",
       "\n",
       "                         sector                     revenue  min_salary  \\\n",
       "0                     Insurance          $10+ billion (USD)          52   \n",
       "1                     Insurance          $10+ billion (USD)          94   \n",
       "2                   Health Care    Unknown / Non-Applicable          90   \n",
       "3                       Finance  $100 to $500 million (USD)          74   \n",
       "4  Oil, Gas, Energy & Utilities   $50 to $100 million (USD)          36   \n",
       "\n",
       "   max_salary  avg_salary       company_txt job_state  age  python  R  spark  \\\n",
       "0          95        73.5            Humana        KY   59       1  0      1   \n",
       "1         155       124.5            Humana        MA   59       0  0      0   \n",
       "2         148       119.0     Tivity Health        PA   39       0  0      0   \n",
       "3         123        98.5  Purchasing Power        GA   19       0  0      0   \n",
       "4          65        50.5        Conservice        UT   20       0  0      0   \n",
       "\n",
       "   aws  cloud  excel  \n",
       "0    0      0      0  \n",
       "1    0      0      0  \n",
       "2    0      0      0  \n",
       "3    0      0      0  \n",
       "4    0      0      0  "
      ]
     },
     "execution_count": 2,
     "metadata": {},
     "output_type": "execute_result"
    }
   ],
   "source": [
    "df = pd.read_csv('salary-data-clean.csv')\n",
    "df.head()"
   ]
  },
  {
   "cell_type": "code",
   "execution_count": 3,
   "metadata": {},
   "outputs": [],
   "source": [
    "cols_to_drop = df.loc[:, (df == -1).all() | (df == 0).all()]\n",
    "df.drop(cols_to_drop, inplace=True, axis=1)"
   ]
  },
  {
   "cell_type": "markdown",
   "metadata": {},
   "source": [
    "## Extra Data Cleaning\n",
    "Here we fix the title of the jobs, we also add a column name *seniority* that shows whether the job title is senior or not. "
   ]
  },
  {
   "cell_type": "code",
   "execution_count": 5,
   "metadata": {},
   "outputs": [],
   "source": [
    "def fix_title(title):\n",
    "    if 'data scientist' in title.lower():\n",
    "        return 'data scientist'\n",
    "    elif 'data engineer' in title.lower():\n",
    "        return 'data engineer'\n",
    "    elif 'machine learning' in title.lower():\n",
    "        return 'mle'\n",
    "    elif 'manager' in title.lower():\n",
    "        return 'manager'\n",
    "    elif 'director' in title.lower():\n",
    "        return 'director'\n",
    "    else:\n",
    "        return 'na'\n",
    "    \n",
    "def seniority(title):\n",
    "    if 'senior' in title.lower() or 'snr' in title.lower() or 'sr' in title.lower() or 'manager' in title.lower() or\\\n",
    "    'director' in title.lower() or 'principle' in title.lower():\n",
    "        return 'senior'\n",
    "    elif 'junior' in title.lower() or 'jr' in title.lower():\n",
    "        return 'junior'\n",
    "    else:\n",
    "        return 'na'        "
   ]
  },
  {
   "cell_type": "code",
   "execution_count": 6,
   "metadata": {},
   "outputs": [
    {
     "data": {
      "text/plain": [
       "data scientist    548\n",
       "na                228\n",
       "data engineer      72\n",
       "mle                22\n",
       "manager            18\n",
       "director           12\n",
       "Name: job_title, dtype: int64"
      ]
     },
     "execution_count": 6,
     "metadata": {},
     "output_type": "execute_result"
    }
   ],
   "source": [
    "df['job_title'] = df['job title'].apply(fix_title)\n",
    "df['job_title'].value_counts()"
   ]
  },
  {
   "cell_type": "code",
   "execution_count": 7,
   "metadata": {},
   "outputs": [
    {
     "data": {
      "text/plain": [
       "na        746\n",
       "senior    148\n",
       "junior      6\n",
       "Name: seniority, dtype: int64"
      ]
     },
     "execution_count": 7,
     "metadata": {},
     "output_type": "execute_result"
    }
   ],
   "source": [
    "df['seniority'] = df['job title'].apply(seniority)\n",
    "df['seniority'].value_counts()"
   ]
  },
  {
   "cell_type": "code",
   "execution_count": 8,
   "metadata": {},
   "outputs": [
    {
     "data": {
      "text/html": [
       "<div>\n",
       "<style scoped>\n",
       "    .dataframe tbody tr th:only-of-type {\n",
       "        vertical-align: middle;\n",
       "    }\n",
       "\n",
       "    .dataframe tbody tr th {\n",
       "        vertical-align: top;\n",
       "    }\n",
       "\n",
       "    .dataframe thead th {\n",
       "        text-align: right;\n",
       "    }\n",
       "</style>\n",
       "<table border=\"1\" class=\"dataframe\">\n",
       "  <thead>\n",
       "    <tr style=\"text-align: right;\">\n",
       "      <th></th>\n",
       "      <th>job title</th>\n",
       "      <th>salary estimate</th>\n",
       "      <th>job description</th>\n",
       "      <th>rating</th>\n",
       "      <th>company name</th>\n",
       "      <th>location</th>\n",
       "      <th>size</th>\n",
       "      <th>founded</th>\n",
       "      <th>type of ownership</th>\n",
       "      <th>industry</th>\n",
       "      <th>sector</th>\n",
       "      <th>revenue</th>\n",
       "      <th>min_salary</th>\n",
       "      <th>max_salary</th>\n",
       "      <th>avg_salary</th>\n",
       "      <th>company_txt</th>\n",
       "      <th>job_state</th>\n",
       "      <th>age</th>\n",
       "      <th>python</th>\n",
       "      <th>R</th>\n",
       "      <th>spark</th>\n",
       "      <th>aws</th>\n",
       "      <th>cloud</th>\n",
       "      <th>job_title</th>\n",
       "      <th>seniority</th>\n",
       "    </tr>\n",
       "  </thead>\n",
       "  <tbody>\n",
       "    <tr>\n",
       "      <th>0</th>\n",
       "      <td>Data Scientist 2</td>\n",
       "      <td>$52K - $95K</td>\n",
       "      <td>description\\ndigital health and analytics with...</td>\n",
       "      <td>3.9</td>\n",
       "      <td>Humana</td>\n",
       "      <td>Louisville, KY</td>\n",
       "      <td>10000+ Employees</td>\n",
       "      <td>1961</td>\n",
       "      <td>Company - Public</td>\n",
       "      <td>Insurance Carriers</td>\n",
       "      <td>Insurance</td>\n",
       "      <td>$10+ billion (USD)</td>\n",
       "      <td>52</td>\n",
       "      <td>95</td>\n",
       "      <td>73.5</td>\n",
       "      <td>Humana</td>\n",
       "      <td>KY</td>\n",
       "      <td>59</td>\n",
       "      <td>1</td>\n",
       "      <td>0</td>\n",
       "      <td>1</td>\n",
       "      <td>0</td>\n",
       "      <td>0</td>\n",
       "      <td>data scientist</td>\n",
       "      <td>na</td>\n",
       "    </tr>\n",
       "    <tr>\n",
       "      <th>1</th>\n",
       "      <td>Lead Data Scientist</td>\n",
       "      <td>$94K - $155K</td>\n",
       "      <td>description\\nthe lead data scientist uses math...</td>\n",
       "      <td>3.9</td>\n",
       "      <td>Humana</td>\n",
       "      <td>Boston, MA</td>\n",
       "      <td>10000+ Employees</td>\n",
       "      <td>1961</td>\n",
       "      <td>Company - Public</td>\n",
       "      <td>Insurance Carriers</td>\n",
       "      <td>Insurance</td>\n",
       "      <td>$10+ billion (USD)</td>\n",
       "      <td>94</td>\n",
       "      <td>155</td>\n",
       "      <td>124.5</td>\n",
       "      <td>Humana</td>\n",
       "      <td>MA</td>\n",
       "      <td>59</td>\n",
       "      <td>0</td>\n",
       "      <td>0</td>\n",
       "      <td>0</td>\n",
       "      <td>0</td>\n",
       "      <td>0</td>\n",
       "      <td>data scientist</td>\n",
       "      <td>na</td>\n",
       "    </tr>\n",
       "    <tr>\n",
       "      <th>2</th>\n",
       "      <td>Data Scientist - Nutrisystem</td>\n",
       "      <td>$90K - $148K</td>\n",
       "      <td>description/responsibilities</td>\n",
       "      <td>2.7</td>\n",
       "      <td>Tivity Health</td>\n",
       "      <td>Fort Washington, PA</td>\n",
       "      <td>201 to 500 Employees</td>\n",
       "      <td>1981</td>\n",
       "      <td>Company - Public</td>\n",
       "      <td>Health Care Services &amp; Hospitals</td>\n",
       "      <td>Health Care</td>\n",
       "      <td>Unknown / Non-Applicable</td>\n",
       "      <td>90</td>\n",
       "      <td>148</td>\n",
       "      <td>119.0</td>\n",
       "      <td>Tivity Health</td>\n",
       "      <td>PA</td>\n",
       "      <td>39</td>\n",
       "      <td>0</td>\n",
       "      <td>0</td>\n",
       "      <td>0</td>\n",
       "      <td>0</td>\n",
       "      <td>0</td>\n",
       "      <td>data scientist</td>\n",
       "      <td>na</td>\n",
       "    </tr>\n",
       "    <tr>\n",
       "      <th>3</th>\n",
       "      <td>Data Scientist</td>\n",
       "      <td>$74K - $123K</td>\n",
       "      <td>data scientist\\n\\n\\n\\nlocation\\n\\n\\n\\natlanta ...</td>\n",
       "      <td>2.6</td>\n",
       "      <td>Purchasing Power</td>\n",
       "      <td>Atlanta, GA</td>\n",
       "      <td>201 to 500 Employees</td>\n",
       "      <td>2001</td>\n",
       "      <td>Company - Private</td>\n",
       "      <td>Financial Transaction Processing</td>\n",
       "      <td>Finance</td>\n",
       "      <td>$100 to $500 million (USD)</td>\n",
       "      <td>74</td>\n",
       "      <td>123</td>\n",
       "      <td>98.5</td>\n",
       "      <td>Purchasing Power</td>\n",
       "      <td>GA</td>\n",
       "      <td>19</td>\n",
       "      <td>0</td>\n",
       "      <td>0</td>\n",
       "      <td>0</td>\n",
       "      <td>0</td>\n",
       "      <td>0</td>\n",
       "      <td>data scientist</td>\n",
       "      <td>na</td>\n",
       "    </tr>\n",
       "    <tr>\n",
       "      <th>4</th>\n",
       "      <td>Data Analyst</td>\n",
       "      <td>$36K - $65K</td>\n",
       "      <td>description:</td>\n",
       "      <td>4.1</td>\n",
       "      <td>Conservice</td>\n",
       "      <td>Logan, UT</td>\n",
       "      <td>1001 to 5000 Employees</td>\n",
       "      <td>2000</td>\n",
       "      <td>Company - Private</td>\n",
       "      <td>Utilities</td>\n",
       "      <td>Oil, Gas, Energy &amp; Utilities</td>\n",
       "      <td>$50 to $100 million (USD)</td>\n",
       "      <td>36</td>\n",
       "      <td>65</td>\n",
       "      <td>50.5</td>\n",
       "      <td>Conservice</td>\n",
       "      <td>UT</td>\n",
       "      <td>20</td>\n",
       "      <td>0</td>\n",
       "      <td>0</td>\n",
       "      <td>0</td>\n",
       "      <td>0</td>\n",
       "      <td>0</td>\n",
       "      <td>na</td>\n",
       "      <td>na</td>\n",
       "    </tr>\n",
       "  </tbody>\n",
       "</table>\n",
       "</div>"
      ],
      "text/plain": [
       "                      job title salary estimate  \\\n",
       "0              Data Scientist 2     $52K - $95K   \n",
       "1           Lead Data Scientist    $94K - $155K   \n",
       "2  Data Scientist - Nutrisystem    $90K - $148K   \n",
       "3                Data Scientist    $74K - $123K   \n",
       "4                  Data Analyst     $36K - $65K   \n",
       "\n",
       "                                     job description  rating  \\\n",
       "0  description\\ndigital health and analytics with...     3.9   \n",
       "1  description\\nthe lead data scientist uses math...     3.9   \n",
       "2                       description/responsibilities     2.7   \n",
       "3  data scientist\\n\\n\\n\\nlocation\\n\\n\\n\\natlanta ...     2.6   \n",
       "4                                       description:     4.1   \n",
       "\n",
       "       company name             location                    size  founded  \\\n",
       "0            Humana       Louisville, KY        10000+ Employees     1961   \n",
       "1            Humana           Boston, MA        10000+ Employees     1961   \n",
       "2     Tivity Health  Fort Washington, PA    201 to 500 Employees     1981   \n",
       "3  Purchasing Power          Atlanta, GA    201 to 500 Employees     2001   \n",
       "4        Conservice            Logan, UT  1001 to 5000 Employees     2000   \n",
       "\n",
       "   type of ownership                          industry  \\\n",
       "0   Company - Public                Insurance Carriers   \n",
       "1   Company - Public                Insurance Carriers   \n",
       "2   Company - Public  Health Care Services & Hospitals   \n",
       "3  Company - Private  Financial Transaction Processing   \n",
       "4  Company - Private                         Utilities   \n",
       "\n",
       "                         sector                     revenue  min_salary  \\\n",
       "0                     Insurance          $10+ billion (USD)          52   \n",
       "1                     Insurance          $10+ billion (USD)          94   \n",
       "2                   Health Care    Unknown / Non-Applicable          90   \n",
       "3                       Finance  $100 to $500 million (USD)          74   \n",
       "4  Oil, Gas, Energy & Utilities   $50 to $100 million (USD)          36   \n",
       "\n",
       "   max_salary  avg_salary       company_txt job_state  age  python  R  spark  \\\n",
       "0          95        73.5            Humana        KY   59       1  0      1   \n",
       "1         155       124.5            Humana        MA   59       0  0      0   \n",
       "2         148       119.0     Tivity Health        PA   39       0  0      0   \n",
       "3         123        98.5  Purchasing Power        GA   19       0  0      0   \n",
       "4          65        50.5        Conservice        UT   20       0  0      0   \n",
       "\n",
       "   aws  cloud       job_title seniority  \n",
       "0    0      0  data scientist        na  \n",
       "1    0      0  data scientist        na  \n",
       "2    0      0  data scientist        na  \n",
       "3    0      0  data scientist        na  \n",
       "4    0      0              na        na  "
      ]
     },
     "execution_count": 8,
     "metadata": {},
     "output_type": "execute_result"
    }
   ],
   "source": [
    "df.head()"
   ]
  },
  {
   "cell_type": "markdown",
   "metadata": {},
   "source": [
    "We now drop the extra columns"
   ]
  },
  {
   "cell_type": "code",
   "execution_count": 9,
   "metadata": {},
   "outputs": [],
   "source": [
    "df.drop('job title', axis=1, inplace=True)"
   ]
  },
  {
   "cell_type": "markdown",
   "metadata": {},
   "source": [
    "We find the length of job description for each job."
   ]
  },
  {
   "cell_type": "code",
   "execution_count": 10,
   "metadata": {},
   "outputs": [
    {
     "data": {
      "text/plain": [
       "0      3525\n",
       "1      2220\n",
       "2        28\n",
       "3       121\n",
       "4        12\n",
       "       ... \n",
       "895       9\n",
       "896     410\n",
       "897    5338\n",
       "898       5\n",
       "899     585\n",
       "Name: desc_len, Length: 900, dtype: int64"
      ]
     },
     "execution_count": 10,
     "metadata": {},
     "output_type": "execute_result"
    }
   ],
   "source": [
    "df['desc_len'] = df['job description'].apply(lambda x: len(x))\n",
    "df['desc_len']"
   ]
  },
  {
   "cell_type": "markdown",
   "metadata": {},
   "source": [
    "## EDA"
   ]
  },
  {
   "cell_type": "code",
   "execution_count": 39,
   "metadata": {},
   "outputs": [
    {
     "data": {
      "text/html": [
       "<div>\n",
       "<style scoped>\n",
       "    .dataframe tbody tr th:only-of-type {\n",
       "        vertical-align: middle;\n",
       "    }\n",
       "\n",
       "    .dataframe tbody tr th {\n",
       "        vertical-align: top;\n",
       "    }\n",
       "\n",
       "    .dataframe thead th {\n",
       "        text-align: right;\n",
       "    }\n",
       "</style>\n",
       "<table border=\"1\" class=\"dataframe\">\n",
       "  <thead>\n",
       "    <tr style=\"text-align: right;\">\n",
       "      <th></th>\n",
       "      <th>rating</th>\n",
       "      <th>founded</th>\n",
       "      <th>min_salary</th>\n",
       "      <th>max_salary</th>\n",
       "      <th>avg_salary</th>\n",
       "      <th>age</th>\n",
       "      <th>python</th>\n",
       "      <th>R</th>\n",
       "      <th>spark</th>\n",
       "      <th>aws</th>\n",
       "      <th>cloud</th>\n",
       "      <th>desc_len</th>\n",
       "    </tr>\n",
       "  </thead>\n",
       "  <tbody>\n",
       "    <tr>\n",
       "      <th>count</th>\n",
       "      <td>997.000000</td>\n",
       "      <td>997.000000</td>\n",
       "      <td>997.000000</td>\n",
       "      <td>997.000000</td>\n",
       "      <td>997.000000</td>\n",
       "      <td>997.000000</td>\n",
       "      <td>997.000000</td>\n",
       "      <td>997.000000</td>\n",
       "      <td>997.000000</td>\n",
       "      <td>997.000000</td>\n",
       "      <td>997.000000</td>\n",
       "      <td>997.000000</td>\n",
       "    </tr>\n",
       "    <tr>\n",
       "      <th>mean</th>\n",
       "      <td>3.050853</td>\n",
       "      <td>1404.235707</td>\n",
       "      <td>77.486459</td>\n",
       "      <td>128.106319</td>\n",
       "      <td>102.796389</td>\n",
       "      <td>27.619860</td>\n",
       "      <td>0.817452</td>\n",
       "      <td>0.004012</td>\n",
       "      <td>0.254764</td>\n",
       "      <td>0.235707</td>\n",
       "      <td>0.269809</td>\n",
       "      <td>3555.474423</td>\n",
       "    </tr>\n",
       "    <tr>\n",
       "      <th>std</th>\n",
       "      <td>1.882778</td>\n",
       "      <td>901.274063</td>\n",
       "      <td>19.319057</td>\n",
       "      <td>28.587580</td>\n",
       "      <td>23.865002</td>\n",
       "      <td>42.814592</td>\n",
       "      <td>0.386489</td>\n",
       "      <td>0.063245</td>\n",
       "      <td>0.435947</td>\n",
       "      <td>0.424653</td>\n",
       "      <td>0.444083</td>\n",
       "      <td>1510.311395</td>\n",
       "    </tr>\n",
       "    <tr>\n",
       "      <th>min</th>\n",
       "      <td>-1.000000</td>\n",
       "      <td>-1.000000</td>\n",
       "      <td>52.000000</td>\n",
       "      <td>93.000000</td>\n",
       "      <td>73.000000</td>\n",
       "      <td>-1.000000</td>\n",
       "      <td>0.000000</td>\n",
       "      <td>0.000000</td>\n",
       "      <td>0.000000</td>\n",
       "      <td>0.000000</td>\n",
       "      <td>0.000000</td>\n",
       "      <td>535.000000</td>\n",
       "    </tr>\n",
       "    <tr>\n",
       "      <th>25%</th>\n",
       "      <td>3.200000</td>\n",
       "      <td>-1.000000</td>\n",
       "      <td>65.000000</td>\n",
       "      <td>106.000000</td>\n",
       "      <td>85.500000</td>\n",
       "      <td>-1.000000</td>\n",
       "      <td>1.000000</td>\n",
       "      <td>0.000000</td>\n",
       "      <td>0.000000</td>\n",
       "      <td>0.000000</td>\n",
       "      <td>0.000000</td>\n",
       "      <td>2474.000000</td>\n",
       "    </tr>\n",
       "    <tr>\n",
       "      <th>50%</th>\n",
       "      <td>3.700000</td>\n",
       "      <td>1978.000000</td>\n",
       "      <td>69.000000</td>\n",
       "      <td>119.000000</td>\n",
       "      <td>94.500000</td>\n",
       "      <td>12.000000</td>\n",
       "      <td>1.000000</td>\n",
       "      <td>0.000000</td>\n",
       "      <td>0.000000</td>\n",
       "      <td>0.000000</td>\n",
       "      <td>0.000000</td>\n",
       "      <td>3379.000000</td>\n",
       "    </tr>\n",
       "    <tr>\n",
       "      <th>75%</th>\n",
       "      <td>4.100000</td>\n",
       "      <td>2006.000000</td>\n",
       "      <td>90.000000</td>\n",
       "      <td>149.000000</td>\n",
       "      <td>120.500000</td>\n",
       "      <td>35.000000</td>\n",
       "      <td>1.000000</td>\n",
       "      <td>0.000000</td>\n",
       "      <td>1.000000</td>\n",
       "      <td>0.000000</td>\n",
       "      <td>1.000000</td>\n",
       "      <td>4615.000000</td>\n",
       "    </tr>\n",
       "    <tr>\n",
       "      <th>max</th>\n",
       "      <td>5.000000</td>\n",
       "      <td>2020.000000</td>\n",
       "      <td>135.000000</td>\n",
       "      <td>212.000000</td>\n",
       "      <td>173.500000</td>\n",
       "      <td>238.000000</td>\n",
       "      <td>1.000000</td>\n",
       "      <td>1.000000</td>\n",
       "      <td>1.000000</td>\n",
       "      <td>1.000000</td>\n",
       "      <td>1.000000</td>\n",
       "      <td>12240.000000</td>\n",
       "    </tr>\n",
       "  </tbody>\n",
       "</table>\n",
       "</div>"
      ],
      "text/plain": [
       "           rating      founded  min_salary  max_salary  avg_salary  \\\n",
       "count  997.000000   997.000000  997.000000  997.000000  997.000000   \n",
       "mean     3.050853  1404.235707   77.486459  128.106319  102.796389   \n",
       "std      1.882778   901.274063   19.319057   28.587580   23.865002   \n",
       "min     -1.000000    -1.000000   52.000000   93.000000   73.000000   \n",
       "25%      3.200000    -1.000000   65.000000  106.000000   85.500000   \n",
       "50%      3.700000  1978.000000   69.000000  119.000000   94.500000   \n",
       "75%      4.100000  2006.000000   90.000000  149.000000  120.500000   \n",
       "max      5.000000  2020.000000  135.000000  212.000000  173.500000   \n",
       "\n",
       "              age      python           R       spark         aws       cloud  \\\n",
       "count  997.000000  997.000000  997.000000  997.000000  997.000000  997.000000   \n",
       "mean    27.619860    0.817452    0.004012    0.254764    0.235707    0.269809   \n",
       "std     42.814592    0.386489    0.063245    0.435947    0.424653    0.444083   \n",
       "min     -1.000000    0.000000    0.000000    0.000000    0.000000    0.000000   \n",
       "25%     -1.000000    1.000000    0.000000    0.000000    0.000000    0.000000   \n",
       "50%     12.000000    1.000000    0.000000    0.000000    0.000000    0.000000   \n",
       "75%     35.000000    1.000000    0.000000    1.000000    0.000000    1.000000   \n",
       "max    238.000000    1.000000    1.000000    1.000000    1.000000    1.000000   \n",
       "\n",
       "           desc_len  \n",
       "count    997.000000  \n",
       "mean    3555.474423  \n",
       "std     1510.311395  \n",
       "min      535.000000  \n",
       "25%     2474.000000  \n",
       "50%     3379.000000  \n",
       "75%     4615.000000  \n",
       "max    12240.000000  "
      ]
     },
     "execution_count": 39,
     "metadata": {},
     "output_type": "execute_result"
    }
   ],
   "source": [
    "df.describe()"
   ]
  },
  {
   "cell_type": "markdown",
   "metadata": {},
   "source": [
    "We want to see the histogram of our numerical variables."
   ]
  },
  {
   "cell_type": "code",
   "execution_count": 40,
   "metadata": {},
   "outputs": [
    {
     "data": {
      "text/plain": [
       "Index(['salary estimate', 'job description', 'rating', 'company name',\n",
       "       'location', 'size', 'founded', 'type of ownership', 'industry',\n",
       "       'sector', 'revenue', 'min_salary', 'max_salary', 'avg_salary',\n",
       "       'company_txt', 'age', 'python', 'R', 'spark', 'aws', 'cloud',\n",
       "       'job_title', 'seniority', 'state', 'desc_len'],\n",
       "      dtype='object')"
      ]
     },
     "execution_count": 40,
     "metadata": {},
     "output_type": "execute_result"
    }
   ],
   "source": [
    "df.columns"
   ]
  },
  {
   "cell_type": "code",
   "execution_count": 14,
   "metadata": {},
   "outputs": [
    {
     "data": {
      "image/png": "[encoded data removed]",
      "text/plain": [
       "<Figure size 432x288 with 1 Axes>"
      ]
     },
     "metadata": {
      "needs_background": "light"
     },
     "output_type": "display_data"
    }
   ],
   "source": [
    "df['rating'].hist();"
   ]
  },
  {
   "cell_type": "code",
   "execution_count": 19,
   "metadata": {},
   "outputs": [
    {
     "data": {
      "image/png": "[encoded data removed]",
      "text/plain": [
       "<Figure size 432x288 with 1 Axes>"
      ]
     },
     "metadata": {
      "needs_background": "light"
     },
     "output_type": "display_data"
    }
   ],
   "source": [
    "df['avg_salary'].hist(bins=10);"
   ]
  },
  {
   "cell_type": "code",
   "execution_count": 16,
   "metadata": {},
   "outputs": [
    {
     "data": {
      "image/png": "[encoded data removed]",
      "text/plain": [
       "<Figure size 432x288 with 1 Axes>"
      ]
     },
     "metadata": {
      "needs_background": "light"
     },
     "output_type": "display_data"
    }
   ],
   "source": [
    "df['age'].hist();"
   ]
  },
  {
   "cell_type": "code",
   "execution_count": 20,
   "metadata": {},
   "outputs": [
    {
     "data": {
      "image/png": "[encoded data removed]",
      "text/plain": [
       "<Figure size 432x288 with 1 Axes>"
      ]
     },
     "metadata": {
      "needs_background": "light"
     },
     "output_type": "display_data"
    }
   ],
   "source": [
    "df['desc_len'].hist();"
   ]
  },
  {
   "cell_type": "markdown",
   "metadata": {},
   "source": [
    "We can also use boxplot to see the distribution of numerical variables."
   ]
  },
  {
   "cell_type": "code",
   "execution_count": 21,
   "metadata": {},
   "outputs": [
    {
     "data": {
      "text/plain": [
       "<AxesSubplot:>"
      ]
     },
     "execution_count": 21,
     "metadata": {},
     "output_type": "execute_result"
    },
    {
     "data": {
      "image/png": "[encoded data removed]",
      "text/plain": [
       "<Figure size 432x288 with 1 Axes>"
      ]
     },
     "metadata": {
      "needs_background": "light"
     },
     "output_type": "display_data"
    }
   ],
   "source": [
    "df.boxplot(column=['avg_salary', 'age'])"
   ]
  },
  {
   "cell_type": "code",
   "execution_count": 46,
   "metadata": {},
   "outputs": [
    {
     "data": {
      "text/plain": [
       "<AxesSubplot:>"
      ]
     },
     "execution_count": 46,
     "metadata": {},
     "output_type": "execute_result"
    },
    {
     "data": {
      "image/png": "[encoded data removed]",
      "text/plain": [
       "<Figure size 432x288 with 1 Axes>"
      ]
     },
     "metadata": {
      "needs_background": "light"
     },
     "output_type": "display_data"
    }
   ],
   "source": [
    "df.boxplot(column='rating')"
   ]
  },
  {
   "cell_type": "markdown",
   "metadata": {},
   "source": [
    "We now take a look at correlations between numerical variables."
   ]
  },
  {
   "cell_type": "code",
   "execution_count": 22,
   "metadata": {},
   "outputs": [
    {
     "data": {
      "text/html": [
       "<div>\n",
       "<style scoped>\n",
       "    .dataframe tbody tr th:only-of-type {\n",
       "        vertical-align: middle;\n",
       "    }\n",
       "\n",
       "    .dataframe tbody tr th {\n",
       "        vertical-align: top;\n",
       "    }\n",
       "\n",
       "    .dataframe thead th {\n",
       "        text-align: right;\n",
       "    }\n",
       "</style>\n",
       "<table border=\"1\" class=\"dataframe\">\n",
       "  <thead>\n",
       "    <tr style=\"text-align: right;\">\n",
       "      <th></th>\n",
       "      <th>avg_salary</th>\n",
       "      <th>age</th>\n",
       "      <th>rating</th>\n",
       "      <th>desc_len</th>\n",
       "    </tr>\n",
       "  </thead>\n",
       "  <tbody>\n",
       "    <tr>\n",
       "      <th>avg_salary</th>\n",
       "      <td>1.000000</td>\n",
       "      <td>-0.007369</td>\n",
       "      <td>0.009723</td>\n",
       "      <td>-0.011555</td>\n",
       "    </tr>\n",
       "    <tr>\n",
       "      <th>age</th>\n",
       "      <td>-0.007369</td>\n",
       "      <td>1.000000</td>\n",
       "      <td>0.181395</td>\n",
       "      <td>0.144457</td>\n",
       "    </tr>\n",
       "    <tr>\n",
       "      <th>rating</th>\n",
       "      <td>0.009723</td>\n",
       "      <td>0.181395</td>\n",
       "      <td>1.000000</td>\n",
       "      <td>0.085231</td>\n",
       "    </tr>\n",
       "    <tr>\n",
       "      <th>desc_len</th>\n",
       "      <td>-0.011555</td>\n",
       "      <td>0.144457</td>\n",
       "      <td>0.085231</td>\n",
       "      <td>1.000000</td>\n",
       "    </tr>\n",
       "  </tbody>\n",
       "</table>\n",
       "</div>"
      ],
      "text/plain": [
       "            avg_salary       age    rating  desc_len\n",
       "avg_salary    1.000000 -0.007369  0.009723 -0.011555\n",
       "age          -0.007369  1.000000  0.181395  0.144457\n",
       "rating        0.009723  0.181395  1.000000  0.085231\n",
       "desc_len     -0.011555  0.144457  0.085231  1.000000"
      ]
     },
     "execution_count": 22,
     "metadata": {},
     "output_type": "execute_result"
    }
   ],
   "source": [
    "corr = df[['avg_salary', 'age', 'rating', 'desc_len']].corr()\n",
    "corr"
   ]
  },
  {
   "cell_type": "code",
   "execution_count": 23,
   "metadata": {},
   "outputs": [
    {
     "data": {
      "image/png": "[encoded data removed]",
      "text/plain": [
       "<Figure size 432x288 with 2 Axes>"
      ]
     },
     "metadata": {
      "needs_background": "light"
     },
     "output_type": "display_data"
    }
   ],
   "source": [
    "cmap = sns.diverging_palette(220, 10, as_cmap = True)\n",
    "sns.heatmap(corr, cmap = cmap, vmax=.3, center=0, square=True);"
   ]
  },
  {
   "cell_type": "markdown",
   "metadata": {},
   "source": [
    "The above chart shows that there is relatively high correlation between *rating* and 'age', also between 'desc_len' and 'age'. "
   ]
  },
  {
   "cell_type": "markdown",
   "metadata": {},
   "source": [
    "Now we visualize categorical variables."
   ]
  },
  {
   "cell_type": "code",
   "execution_count": 26,
   "metadata": {},
   "outputs": [
    {
     "data": {
      "text/plain": [
       "Index(['salary estimate', 'job description', 'rating', 'company name',\n",
       "       'location', 'size', 'founded', 'type of ownership', 'industry',\n",
       "       'sector', 'revenue', 'min_salary', 'max_salary', 'avg_salary',\n",
       "       'company_txt', 'job_state', 'age', 'python', 'R', 'spark', 'aws',\n",
       "       'cloud', 'job_title', 'seniority', 'desc_len'],\n",
       "      dtype='object')"
      ]
     },
     "execution_count": 26,
     "metadata": {},
     "output_type": "execute_result"
    }
   ],
   "source": [
    "df.columns"
   ]
  },
  {
   "cell_type": "code",
   "execution_count": 27,
   "metadata": {},
   "outputs": [
    {
     "name": "stdout",
     "output_type": "stream",
     "text": [
      "graph for size, total=9\n"
     ]
    },
    {
     "data": {
      "image/png": "[encoded data removed]",
      "text/plain": [
       "<Figure size 720x576 with 1 Axes>"
      ]
     },
     "metadata": {
      "needs_background": "light"
     },
     "output_type": "display_data"
    },
    {
     "name": "stdout",
     "output_type": "stream",
     "text": [
      "graph for type of ownership, total=12\n"
     ]
    },
    {
     "data": {
      "image/png": "[encoded data removed]",
      "text/plain": [
       "<Figure size 720x576 with 1 Axes>"
      ]
     },
     "metadata": {
      "needs_background": "light"
     },
     "output_type": "display_data"
    },
    {
     "name": "stdout",
     "output_type": "stream",
     "text": [
      "graph for sector, total=23\n"
     ]
    },
    {
     "data": {
      "image/png": "[encoded data removed]",
      "text/plain": [
       "<Figure size 720x576 with 1 Axes>"
      ]
     },
     "metadata": {
      "needs_background": "light"
     },
     "output_type": "display_data"
    },
    {
     "name": "stdout",
     "output_type": "stream",
     "text": [
      "graph for seniority, total=3\n"
     ]
    },
    {
     "data": {
      "image/png": "[encoded data removed]",
      "text/plain": [
       "<Figure size 720x576 with 1 Axes>"
      ]
     },
     "metadata": {
      "needs_background": "light"
     },
     "output_type": "display_data"
    },
    {
     "name": "stdout",
     "output_type": "stream",
     "text": [
      "graph for job_state, total=47\n"
     ]
    },
    {
     "data": {
      "image/png": "[encoded data removed]",
      "text/plain": [
       "<Figure size 720x576 with 1 Axes>"
      ]
     },
     "metadata": {
      "needs_background": "light"
     },
     "output_type": "display_data"
    }
   ],
   "source": [
    "df_cat = df[['size', 'type of ownership', 'sector', 'seniority', 'job_state']]\n",
    "for name in df_cat.columns:\n",
    "    cat_num = df_cat[name].value_counts()\n",
    "    print(f'graph for {name}, total={len(cat_num)}')\n",
    "    plt.figure(figsize=(10, 8))\n",
    "    graph = sns.barplot(x=cat_num.index, y=cat_num)\n",
    "    graph.set_xticklabels(graph.get_xticklabels(), rotation=90)\n",
    "    plt.show()"
   ]
  },
  {
   "cell_type": "markdown",
   "metadata": {},
   "source": [
    "For better visualisation in high-dimensional variables, we select top 20 variables and visualise those variables."
   ]
  },
  {
   "cell_type": "code",
   "execution_count": 28,
   "metadata": {},
   "outputs": [
    {
     "name": "stdout",
     "output_type": "stream",
     "text": [
      "graph for company_txt, total=20\n"
     ]
    },
    {
     "data": {
      "image/png": "[encoded data removed]",
      "text/plain": [
       "<Figure size 720x576 with 1 Axes>"
      ]
     },
     "metadata": {
      "needs_background": "light"
     },
     "output_type": "display_data"
    },
    {
     "name": "stdout",
     "output_type": "stream",
     "text": [
      "graph for location, total=20\n"
     ]
    },
    {
     "data": {
      "image/png": "[encoded data removed]",
      "text/plain": [
       "<Figure size 720x576 with 1 Axes>"
      ]
     },
     "metadata": {
      "needs_background": "light"
     },
     "output_type": "display_data"
    }
   ],
   "source": [
    "df_cat = df[['company_txt', 'location']]\n",
    "for name in df_cat.columns:\n",
    "    cat_num = df_cat[name].value_counts()[:20]\n",
    "    print(f'graph for {name}, total={len(cat_num)}')\n",
    "    plt.figure(figsize=(10, 8))\n",
    "    graph = sns.barplot(x=cat_num.index, y=cat_num)\n",
    "    graph.set_xticklabels(graph.get_xticklabels(), rotation=90)\n",
    "    plt.show()"
   ]
  },
  {
   "cell_type": "code",
   "execution_count": 31,
   "metadata": {},
   "outputs": [
    {
     "data": {
      "text/html": [
       "<div>\n",
       "<style scoped>\n",
       "    .dataframe tbody tr th:only-of-type {\n",
       "        vertical-align: middle;\n",
       "    }\n",
       "\n",
       "    .dataframe tbody tr th {\n",
       "        vertical-align: top;\n",
       "    }\n",
       "\n",
       "    .dataframe thead th {\n",
       "        text-align: right;\n",
       "    }\n",
       "</style>\n",
       "<table border=\"1\" class=\"dataframe\">\n",
       "  <thead>\n",
       "    <tr style=\"text-align: right;\">\n",
       "      <th></th>\n",
       "      <th>avg_salary</th>\n",
       "    </tr>\n",
       "    <tr>\n",
       "      <th>job_state</th>\n",
       "      <th></th>\n",
       "    </tr>\n",
       "  </thead>\n",
       "  <tbody>\n",
       "    <tr>\n",
       "      <th>RI</th>\n",
       "      <td>161.500000</td>\n",
       "    </tr>\n",
       "    <tr>\n",
       "      <th>AR</th>\n",
       "      <td>153.166667</td>\n",
       "    </tr>\n",
       "    <tr>\n",
       "      <th>OK</th>\n",
       "      <td>151.250000</td>\n",
       "    </tr>\n",
       "    <tr>\n",
       "      <th>NC</th>\n",
       "      <td>148.633333</td>\n",
       "    </tr>\n",
       "    <tr>\n",
       "      <th>MO</th>\n",
       "      <td>137.350000</td>\n",
       "    </tr>\n",
       "  </tbody>\n",
       "</table>\n",
       "</div>"
      ],
      "text/plain": [
       "           avg_salary\n",
       "job_state            \n",
       "RI         161.500000\n",
       "AR         153.166667\n",
       "OK         151.250000\n",
       "NC         148.633333\n",
       "MO         137.350000"
      ]
     },
     "execution_count": 31,
     "metadata": {},
     "output_type": "execute_result"
    }
   ],
   "source": [
    "pd.pivot_table(index = ['job_state'], values='avg_salary', data=df).sort_values('avg_salary', ascending=False)[:5]"
   ]
  },
  {
   "cell_type": "code",
   "execution_count": 53,
   "metadata": {},
   "outputs": [
    {
     "data": {
      "text/plain": [
       "Index(['salary estimate', 'job description', 'rating', 'company name',\n",
       "       'location', 'size', 'founded', 'type of ownership', 'industry',\n",
       "       'sector', 'revenue', 'min_salary', 'max_salary', 'avg_salary',\n",
       "       'company_txt', 'age', 'python', 'R', 'spark', 'aws', 'cloud',\n",
       "       'job_title', 'seniority', 'state', 'desc_len'],\n",
       "      dtype='object')"
      ]
     },
     "execution_count": 53,
     "metadata": {},
     "output_type": "execute_result"
    }
   ],
   "source": [
    "df.columns"
   ]
  },
  {
   "cell_type": "code",
   "execution_count": 32,
   "metadata": {},
   "outputs": [
    {
     "name": "stdout",
     "output_type": "stream",
     "text": [
      "rating\n",
      "        avg_salary\n",
      "rating            \n",
      " 1.0    165.666667\n",
      " 2.2    144.000000\n",
      " 3.0    138.333333\n",
      " 2.8    136.562500\n",
      " 4.4    136.519231\n",
      " 4.3    133.488095\n",
      " 4.8    128.550000\n",
      " 3.3    127.474359\n",
      " 3.8    126.279661\n",
      " 3.7    125.937500\n",
      " 3.9    123.738462\n",
      " 3.5    123.316327\n",
      " 4.2    123.293478\n",
      " 4.9    123.083333\n",
      " 5.0    122.919355\n",
      " 4.1    122.701923\n",
      "-1.0    122.591463\n",
      " 4.5    121.384615\n",
      " 3.4    121.016129\n",
      " 3.1    119.452381\n",
      " 4.0    118.867347\n",
      " 2.7    118.833333\n",
      " 3.6    117.206349\n",
      " 3.2    115.018519\n",
      " 4.7    114.531250\n",
      " 4.6    112.404762\n",
      " 2.9    108.800000\n",
      " 2.6    107.312500\n",
      " 2.5    104.285714\n",
      " 2.3     93.750000\n",
      " 2.0     79.000000\n",
      "industry\n",
      "                                          avg_salary\n",
      "industry                                            \n",
      "Health, Beauty, & Fitness                      176.5\n",
      "Food & Beverage Stores                         176.5\n",
      "Motion Picture Production & Distribution       162.5\n",
      "Transportation Management                      154.0\n",
      "Insurance Agencies & Brokerages                152.5\n",
      "...                                              ...\n",
      "Travel Agencies                                 87.0\n",
      "Beauty & Personal Accessories Stores            79.0\n",
      "Oil & Gas Services                              79.0\n",
      "Veterinary Services                             69.0\n",
      "Venture Capital & Private Equity                66.0\n",
      "\n",
      "[69 rows x 1 columns]\n",
      "sector\n",
      "                                    avg_salary\n",
      "sector                                        \n",
      "Real Estate                         129.928571\n",
      "Education                           128.766667\n",
      "Media                               128.700000\n",
      "Accounting & Legal                  127.388889\n",
      "Information Technology              127.308190\n",
      "Health Care                         125.583333\n",
      "Agriculture & Forestry              124.000000\n",
      "Biotech & Pharmaceuticals           123.858974\n",
      "Travel & Tourism                    123.500000\n",
      "Construction, Repair & Maintenance  123.500000\n",
      "Transportation & Logistics          123.392857\n",
      "Retail                              122.897059\n",
      "Consumer Services                   122.750000\n",
      "Manufacturing                       122.521277\n",
      "Business Services                   122.377778\n",
      "Insurance                           122.267442\n",
      "-1                                  122.141026\n",
      "Non-Profit                          118.642857\n",
      "Aerospace & Defense                 118.637931\n",
      "Finance                             116.093333\n",
      "Government                          112.461538\n",
      "Oil, Gas, Energy & Utilities        110.050000\n",
      "Telecommunications                  101.200000\n",
      "revenue\n",
      "                                  avg_salary\n",
      "revenue                                     \n",
      "$2 to $5 billion (USD)            135.040000\n",
      "$500 million to $1 billion (USD)  133.871795\n",
      "$5 to $10 million (USD)           131.617647\n",
      "$25 to $50 million (USD)          129.955556\n",
      "$1 to $5 million (USD)            126.464286\n",
      "Less than $1 million (USD)        125.436170\n",
      "$50 to $100 million (USD)         125.430769\n",
      "$1 to $2 billion (USD)            123.023256\n",
      "$5 to $10 billion (USD)           122.725806\n",
      "$10+ billion (USD)                122.322785\n",
      "Unknown / Non-Applicable          121.476190\n",
      "$100 to $500 million (USD)        118.479592\n",
      "-1                                118.070423\n",
      "$10 to $25 million (USD)          117.589744\n",
      "python\n",
      "        avg_salary\n",
      "python            \n",
      "0       123.357447\n",
      "1       122.082051\n",
      "R\n",
      "   avg_salary\n",
      "R            \n",
      "1  148.000000\n",
      "0  123.053393\n",
      "spark\n",
      "       avg_salary\n",
      "spark            \n",
      "1      125.717742\n",
      "0      122.886038\n",
      "aws\n",
      "     avg_salary\n",
      "aws            \n",
      "1    125.398649\n",
      "0    122.873487\n",
      "cloud\n",
      "       avg_salary\n",
      "cloud            \n",
      "1       133.25000\n",
      "0       122.19686\n",
      "type of ownership\n",
      "                                avg_salary\n",
      "type of ownership                         \n",
      "Hospital                        134.333333\n",
      "Unknown                         127.100000\n",
      "Company - Public                125.429319\n",
      "Contract                        123.666667\n",
      "Company - Private               123.418233\n",
      "Subsidiary or Business Segment  122.892857\n",
      "College / University            121.083333\n",
      "Nonprofit Organization          120.573171\n",
      "Private Practice / Firm         120.250000\n",
      "-1                              118.070423\n",
      "Government                      112.555556\n",
      "Other Organization               89.250000\n"
     ]
    }
   ],
   "source": [
    "df_pivots = df[['rating', 'industry', 'sector', 'revenue', 'python', 'R', \n",
    "                'spark', 'aws', 'cloud', 'type of ownership', 'avg_salary']]\n",
    "\n",
    "for i in df_pivots.columns[:-1]:\n",
    "    print(i)\n",
    "    print(pd.pivot_table(df_pivots, index=i, values='avg_salary').sort_values(by='avg_salary', ascending=False))"
   ]
  },
  {
   "cell_type": "code",
   "execution_count": 33,
   "metadata": {},
   "outputs": [
    {
     "data": {
      "text/html": [
       "<div>\n",
       "<style scoped>\n",
       "    .dataframe tbody tr th:only-of-type {\n",
       "        vertical-align: middle;\n",
       "    }\n",
       "\n",
       "    .dataframe tbody tr th {\n",
       "        vertical-align: top;\n",
       "    }\n",
       "\n",
       "    .dataframe thead tr th {\n",
       "        text-align: left;\n",
       "    }\n",
       "\n",
       "    .dataframe thead tr:last-of-type th {\n",
       "        text-align: right;\n",
       "    }\n",
       "</style>\n",
       "<table border=\"1\" class=\"dataframe\">\n",
       "  <thead>\n",
       "    <tr>\n",
       "      <th></th>\n",
       "      <th colspan=\"2\" halign=\"left\">avg_salary</th>\n",
       "    </tr>\n",
       "    <tr>\n",
       "      <th>python</th>\n",
       "      <th>0</th>\n",
       "      <th>1</th>\n",
       "    </tr>\n",
       "    <tr>\n",
       "      <th>revenue</th>\n",
       "      <th></th>\n",
       "      <th></th>\n",
       "    </tr>\n",
       "  </thead>\n",
       "  <tbody>\n",
       "    <tr>\n",
       "      <th>$1 to $2 billion (USD)</th>\n",
       "      <td>36</td>\n",
       "      <td>7</td>\n",
       "    </tr>\n",
       "    <tr>\n",
       "      <th>$1 to $5 million (USD)</th>\n",
       "      <td>19</td>\n",
       "      <td>9</td>\n",
       "    </tr>\n",
       "    <tr>\n",
       "      <th>$10 to $25 million (USD)</th>\n",
       "      <td>31</td>\n",
       "      <td>8</td>\n",
       "    </tr>\n",
       "    <tr>\n",
       "      <th>$10+ billion (USD)</th>\n",
       "      <td>53</td>\n",
       "      <td>26</td>\n",
       "    </tr>\n",
       "    <tr>\n",
       "      <th>$100 to $500 million (USD)</th>\n",
       "      <td>83</td>\n",
       "      <td>15</td>\n",
       "    </tr>\n",
       "    <tr>\n",
       "      <th>$2 to $5 billion (USD)</th>\n",
       "      <td>19</td>\n",
       "      <td>6</td>\n",
       "    </tr>\n",
       "    <tr>\n",
       "      <th>$25 to $50 million (USD)</th>\n",
       "      <td>32</td>\n",
       "      <td>13</td>\n",
       "    </tr>\n",
       "    <tr>\n",
       "      <th>$5 to $10 billion (USD)</th>\n",
       "      <td>18</td>\n",
       "      <td>13</td>\n",
       "    </tr>\n",
       "    <tr>\n",
       "      <th>$5 to $10 million (USD)</th>\n",
       "      <td>10</td>\n",
       "      <td>7</td>\n",
       "    </tr>\n",
       "    <tr>\n",
       "      <th>$50 to $100 million (USD)</th>\n",
       "      <td>53</td>\n",
       "      <td>12</td>\n",
       "    </tr>\n",
       "    <tr>\n",
       "      <th>$500 million to $1 billion (USD)</th>\n",
       "      <td>34</td>\n",
       "      <td>5</td>\n",
       "    </tr>\n",
       "    <tr>\n",
       "      <th>-1</th>\n",
       "      <td>66</td>\n",
       "      <td>5</td>\n",
       "    </tr>\n",
       "    <tr>\n",
       "      <th>Less than $1 million (USD)</th>\n",
       "      <td>32</td>\n",
       "      <td>15</td>\n",
       "    </tr>\n",
       "    <tr>\n",
       "      <th>Unknown / Non-Applicable</th>\n",
       "      <td>219</td>\n",
       "      <td>54</td>\n",
       "    </tr>\n",
       "  </tbody>\n",
       "</table>\n",
       "</div>"
      ],
      "text/plain": [
       "                                 avg_salary    \n",
       "python                                    0   1\n",
       "revenue                                        \n",
       "$1 to $2 billion (USD)                   36   7\n",
       "$1 to $5 million (USD)                   19   9\n",
       "$10 to $25 million (USD)                 31   8\n",
       "$10+ billion (USD)                       53  26\n",
       "$100 to $500 million (USD)               83  15\n",
       "$2 to $5 billion (USD)                   19   6\n",
       "$25 to $50 million (USD)                 32  13\n",
       "$5 to $10 billion (USD)                  18  13\n",
       "$5 to $10 million (USD)                  10   7\n",
       "$50 to $100 million (USD)                53  12\n",
       "$500 million to $1 billion (USD)         34   5\n",
       "-1                                       66   5\n",
       "Less than $1 million (USD)               32  15\n",
       "Unknown / Non-Applicable                219  54"
      ]
     },
     "execution_count": 33,
     "metadata": {},
     "output_type": "execute_result"
    }
   ],
   "source": [
    "pd.pivot_table(df_pivots, index='revenue', columns=['python'], values=['avg_salary'], aggfunc='count')"
   ]
  },
  {
   "cell_type": "code",
   "execution_count": null,
   "metadata": {},
   "outputs": [],
   "source": []
  }
 ],
 "metadata": {
  "kernelspec": {
   "display_name": "Python 3",
   "language": "python",
   "name": "python3"
  },
  "language_info": {
   "codemirror_mode": {
    "name": "ipython",
    "version": 3
   },
   "file_extension": ".py",
   "mimetype": "text/x-python",
   "name": "python",
   "nbconvert_exporter": "python",
   "pygments_lexer": "ipython3",
   "version": "3.8.5"
  }
 },
 "nbformat": 4,
 "nbformat_minor": 4
}
